{
 "cells": [
  {
   "cell_type": "markdown",
   "id": "c6b250f1-f228-4ec3-b01b-9754c3da3d5a",
   "metadata": {},
   "source": [
    "# Rinnovo impianto elettrico\n",
    "\n",
    "## Problema\n",
    "\n",
    "La signora Elettra vuole rinnovare i mobili della cucina e incarica un interior designer per il nuovo progetto.\n",
    "Il professionista, dopo il soprallugo, l'elicitazione e la specifica dei requisti, propone il progetto di un nuovo mobile componibile.\n",
    "La signora Elettra è entusiasta del nuovo progetto ma dovrà modifcare l'impianto elettrico della stanza e non sa come informare l'elettricista per la disposizione delle nuove statole sulle pareti.\n",
    "\n",
    "L'interior designer si offre di descrivere la problematica mediante il software che usano in studio per i lavori di ristrutturazione.\n",
    "\n",
    "Il software identifica le scatole elettriche, di derivazione o portafrutti, indicandone la larghezza, l'altezza, la profondità, la descrizione e, se portafrutti, il numero di moduli.\n",
    "Le scatole sono localizzate in una parete secondo la distanza con lo spigolo di una parete di riferimento e l'altezza dal pavimento, e classificate come 'esistente', 'da realizzare', 'da trasformare in derivazione', 'da murare' o altro.\n",
    "\n",
    "Tra due scatole elettriche possono esserci una o più canalizzazioni caratterizzate da un diametro e una lunghezza.\n",
    "\n",
    "All'interno delle canalizzazioni passano dei cavi elettrici di cui interessano una descrizione della _linea_, la sezione espressa in mm^2^ e il colore della guaina.\n",
    "\n",
    "Le connessioni dei cavi elettrici avvengono all'interno delle scatole usando dei morsetti. Dei morsetti interessa la sezione, la scatola e la _linea elettrica_.\n",
    "\n",
    "Le scatole elettriche portafrutti hanno all'interno dei dispositivi di comando o delle prese, detti frutti, che sono caratterizzati da un tipo, una descrizione e delle note aggiuntive.\n",
    "\n",
    "La lunghezza dei tratti di cavo sempre di 50 cm la lunghezza del corrugato che li contiene.\n",
    "\n",
    "Il software permette di inserire i dati delle pareti, delle scatole, delle canalizzazioni, dei cavi e delle linee elettriche. Mostra il materiale per ogni scatola e la distinta dei materiali delle nuove scatole, prendendo canalizzazioni, cavi e morsetti che vi sono collegati.\n",
    "\n",
    "## Compito\n",
    "\n",
    "Progetta un software analogo a quello usato dall'interior designer relativo al rinnovo dell'impianto elettrico.\n",
    "\n",
    "```mermaid\n",
    "classDiagram\n",
    " class Parete {\n",
    " }\n",
    "```"
   ]
  },
  {
   "cell_type": "code",
   "execution_count": null,
   "id": "5738318e-de99-436d-866e-a70171bba355",
   "metadata": {},
   "outputs": [
    {
     "name": "stdout",
     "output_type": "stream",
     "text": [
      "CONNECTED\n"
     ]
    }
   ],
   "source": [
    "--% dbcon: {\"dbfile\" : \"impianto-elettrico.sqlite\"}"
   ]
  },
  {
   "cell_type": "code",
   "execution_count": null,
   "id": "366545dd-224a-4434-b7a3-c2c5ba161846",
   "metadata": {},
   "outputs": [
    {
     "name": "stdout",
     "output_type": "stream",
     "text": [
      "OK\n"
     ]
    }
   ],
   "source": [
    "DROP TABLE IF EXISTS TipoCavo;"
   ]
  },
  {
   "cell_type": "code",
   "execution_count": null,
   "id": "51f1d7b8-0bc6-4644-85b8-12d2a7e14101",
   "metadata": {},
   "outputs": [
    {
     "name": "stdout",
     "output_type": "stream",
     "text": [
      "OK\n"
     ]
    }
   ],
   "source": [
    "CREATE TABLE TipoCavo (\n",
    "    tipoCavoId  INTEGER PRIMARY KEY,\n",
    "    cavo    TEXT,\n",
    "    colore  TEXT,\n",
    "    sezione REAL\n",
    ");"
   ]
  },
  {
   "cell_type": "code",
   "execution_count": null,
   "id": "b49a35cb-29ed-48f2-becd-566b520eb70d",
   "metadata": {},
   "outputs": [
    {
     "name": "stdout",
     "output_type": "stream",
     "text": [
      "OK\n"
     ]
    }
   ],
   "source": [
    "INSERT INTO TipoCavo (tipoCavoId, cavo, colore, sezione) VALUES\n",
    "  (125, 'Fase FEM 25', 'marrone', 25.0)\n",
    ", (225, 'Neutro FEM 25', 'giallo-verde', 25.0)\n",
    ", (325, 'Neutro FEM 25', 'azzurro', 25.0)\n",
    ", (415, 'Fase LUCE', 'nero', 15.0)\n",
    ", (515, 'Ritorno LUCE', 'azzurro', 15.0)\n",
    ", (615, 'Linea 1 deviatore', 'grigio', 15.0)\n",
    ", (715, 'Linea 2 deviatore', 'grigio', 15.0);"
   ]
  },
  {
   "cell_type": "code",
   "execution_count": null,
   "id": "a0bd441d-8fbe-4e25-8838-06fb6c2f8434",
   "metadata": {},
   "outputs": [
    {
     "name": "stdout",
     "output_type": "stream",
     "text": [
      "OK\n"
     ]
    }
   ],
   "source": [
    "DROP TABLE IF EXISTS TipoFrutto;"
   ]
  },
  {
   "cell_type": "code",
   "execution_count": null,
   "id": "9abd5518-d476-4e0f-894d-c5ac3c6d3cf3",
   "metadata": {},
   "outputs": [
    {
     "name": "stdout",
     "output_type": "stream",
     "text": [
      "OK\n"
     ]
    }
   ],
   "source": [
    "CREATE TABLE TipoFrutto (\n",
    "    tipoFruttoId INTEGER PRIMARY KEY,\n",
    "    frutto   TEXT,\n",
    "    note     TEXT\n",
    ");"
   ]
  },
  {
   "cell_type": "code",
   "execution_count": null,
   "id": "0050b0a5-8f69-4760-9edb-393ead6e17bd",
   "metadata": {},
   "outputs": [
    {
     "name": "stdout",
     "output_type": "stream",
     "text": [
      "OK\n"
     ]
    }
   ],
   "source": [
    "INSERT INTO TipoFrutto (tipoFruttoId, frutto, note) VALUES\n",
    "  (1, 'Interruttore', 'Senza LED')\n",
    ", (2, 'Interruttore', 'Con LED')\n",
    ", (3, 'Deviatore', NULL)\n",
    ", (4, 'Presa 10+16 A', NULL)\n",
    ", (5, 'Presa schuko', NULL);\n"
   ]
  },
  {
   "cell_type": "code",
   "execution_count": null,
   "id": "09904fc0-1bd9-4291-bfaf-fe80819af8e3",
   "metadata": {},
   "outputs": [
    {
     "name": "stdout",
     "output_type": "stream",
     "text": [
      "OK\n"
     ]
    }
   ],
   "source": [
    "-- Table: Parete\n",
    "DROP TABLE IF EXISTS Parete;"
   ]
  },
  {
   "cell_type": "code",
   "execution_count": null,
   "id": "b782c805-7adc-4d0a-853f-0d9ce06b9897",
   "metadata": {},
   "outputs": [
    {
     "name": "stdout",
     "output_type": "stream",
     "text": [
      "OK\n"
     ]
    }
   ],
   "source": [
    "CREATE TABLE Parete (\n",
    "    pareteId INTEGER PRIMARY KEY,\n",
    "    parete   TEXT    NOT NULL\n",
    ");"
   ]
  },
  {
   "cell_type": "code",
   "execution_count": null,
   "id": "299e2922-0b5f-4584-870b-0db24cf205c6",
   "metadata": {},
   "outputs": [
    {
     "name": "stdout",
     "output_type": "stream",
     "text": [
      "OK\n"
     ]
    }
   ],
   "source": [
    "INSERT INTO Parete (pareteId, parete) VALUES\n",
    "  (1, 'piano cottura')\n",
    ", (2, 'lavello')\n",
    ", (3, 'forni')\n",
    ", (4, 'tv')\n",
    ", (5, 'portafinestra');\n"
   ]
  },
  {
   "cell_type": "code",
   "execution_count": null,
   "id": "94429860-c3ae-4aa1-9b79-915a1472b0b8",
   "metadata": {},
   "outputs": [
    {
     "name": "stdout",
     "output_type": "stream",
     "text": [
      "OK\n"
     ]
    }
   ],
   "source": [
    "-- Table: TipoScatola\n",
    "DROP TABLE IF EXISTS TipoScatola;"
   ]
  },
  {
   "cell_type": "code",
   "execution_count": null,
   "id": "dfee0873-b83b-448b-b38d-fa1f3cf1c807",
   "metadata": {},
   "outputs": [
    {
     "name": "stdout",
     "output_type": "stream",
     "text": [
      "OK\n"
     ]
    }
   ],
   "source": [
    "CREATE TABLE TipoScatola (\n",
    "    TipoScatolaId INTEGER PRIMARY KEY,\n",
    "    tipoScatola TEXT,\n",
    "    lunghezza  REAL,\n",
    "    larghezza REAL,\n",
    "    profondita REAL,\n",
    "    moduli    INTEGER,\n",
    "    descrizione TEXT\n",
    ");"
   ]
  },
  {
   "cell_type": "code",
   "execution_count": null,
   "id": "f19124ee-667e-4f0c-8a3f-2ccdbe7bee54",
   "metadata": {},
   "outputs": [
    {
     "name": "stdout",
     "output_type": "stream",
     "text": [
      "OK\n"
     ]
    }
   ],
   "source": [
    "INSERT INTO TipoScatola (TipoScatolaId, tipoScatola, lunghezza, larghezza, profondita, moduli, descrizione) VALUES\n",
    "  (1, '502E', 70.8, 71, 52.7, 2, 'Scatola portafrutti 2 moduli')\n",
    ", (2, '503E', 107, 74, 53.3, 3,  'Scatola portafrutti 3 moduli')\n",
    ", (3, '504E', 132, 74, 53.3, 4,  'Scatola portafrutti 4 moduli')\n",
    ", (12, '503E', 107, 74, 53.3, 3,  'Scatola di derivazione adattata da 503E')\n",
    ", (13, '504E', 132, 74, 53.3, 4,  'Scatola di derivazione adattata da 504E')\n",
    ";\n"
   ]
  },
  {
   "cell_type": "code",
   "execution_count": null,
   "id": "f33a8efc-c0ed-44ea-95e8-7be3f0a6fa9d",
   "metadata": {},
   "outputs": [
    {
     "name": "stdout",
     "output_type": "stream",
     "text": [
      "OK\n"
     ]
    }
   ],
   "source": [
    "-- Table: Scatola\n",
    "DROP TABLE IF EXISTS Scatola;"
   ]
  },
  {
   "cell_type": "code",
   "execution_count": null,
   "id": "3f321831-2951-4af1-95b6-dac48e400a76",
   "metadata": {},
   "outputs": [
    {
     "name": "stdout",
     "output_type": "stream",
     "text": [
      "OK\n"
     ]
    }
   ],
   "source": [
    "CREATE TABLE Scatola (\n",
    "    scatolaId       INTEGER PRIMARY KEY,\n",
    "    tipoScatolaId   INTEGER REFERENCES TipoScatola (TipoScatolaId),\n",
    "    pareteId        INTEGER REFERENCES Parete (pareteId),\n",
    "    spigolo         INTEGER REFERENCES Parete (pareteId),\n",
    "    distanzaSpigolo INTEGER,\n",
    "    altezzaTerra    INTEGER,\n",
    "    tipo            TEXT    CHECK (tipo IN ('esistente', 'da realizzare', 'da trasformare in derivazione', 'da murare', 'altro') ),\n",
    "    descrizione     TEXT\n",
    ");"
   ]
  },
  {
   "cell_type": "code",
   "execution_count": null,
   "id": "31fcabe2-1505-4f9d-925b-2d21c7a9827f",
   "metadata": {},
   "outputs": [
    {
     "name": "stdout",
     "output_type": "stream",
     "text": [
      "OK\n"
     ]
    }
   ],
   "source": [
    "INSERT INTO Scatola (scatolaId, tipoScatolaId, pareteId, distanzaSpigolo, altezzaTerra, tipo, descrizione, spigolo) VALUES\n",
    "  (1, 2, 1, 15, 100, 'da realizzare', 'In alto comando luce balcone, deviatore luce diffusa, controllo tapparella', 5)\n",
    ", (2, 2, 1, 15, 30, 'da realizzare', 'In basso, una presa 10+16 A per Bimby, 1 presa shucko', 5)\n",
    ", (3, 1, 2, 220, 100, 'da realizzare', 'In alto, interruttore luce centrare e deviatore luce diffusa', 1)\n",
    ", (4, 3, 3, 235, 135, 'da realizzare', 'Presa per micronde', 4)\n",
    ", (5, 2, 3, 235, 135, 'da realizzare', 'Presa per forno', 4)\n",
    ", (11, 12, 1, 45, 100, 'da trasformare in derivazione', 'Esistente luce balcone e deviatore', 5)\n",
    ", (12, 12, 1, 45, 30, 'da trasformare in derivazione', 'Esistente con una presa 10+16 A per Bimby', 5)\n",
    ", (13, 12, 2, 220, 100, 'da trasformare in derivazione', 'Esistente con interrutore e deviatore', 1)\n",
    ", (14, 13, 3, 235, 135, 'da trasformare in derivazione', 'Esistente con tre prese per forni', 4)\n",
    ";"
   ]
  },
  {
   "cell_type": "code",
   "execution_count": null,
   "id": "dc214c57-0ff6-445a-b302-cfc2f29d0433",
   "metadata": {},
   "outputs": [
    {
     "name": "stdout",
     "output_type": "stream",
     "text": [
      "OK\n"
     ]
    }
   ],
   "source": [
    "DROP TABLE IF EXISTS Canalizzazione;"
   ]
  },
  {
   "cell_type": "code",
   "execution_count": null,
   "id": "b089ef41-a743-45dc-9bbe-8ed013eb569a",
   "metadata": {},
   "outputs": [
    {
     "name": "stdout",
     "output_type": "stream",
     "text": [
      "OK\n"
     ]
    }
   ],
   "source": [
    "CREATE TABLE Canalizzazione (\n",
    "    canalizzazioneId INTEGER PRIMARY KEY,\n",
    "    scatolaOrigineId INTEGER REFERENCES Scatola(scatolaId),\n",
    "    scatolaDestinazioneId INTEGER REFERENCES Scatola(scatolaId),\n",
    "    diametro INTEGER,\n",
    "    lunghezza INTEGER,\n",
    "    descrizione TEXT,\n",
    "    cavi INTEGER\n",
    ");"
   ]
  },
  {
   "cell_type": "code",
   "execution_count": null,
   "id": "9f363bfd-08ec-4003-a962-deeaef21bb24",
   "metadata": {},
   "outputs": [
    {
     "name": "stdout",
     "output_type": "stream",
     "text": [
      "OK\n"
     ]
    }
   ],
   "source": [
    "INSERT INTO Canalizzazione (canalizzazioneId, scatolaOrigineId, scatolaDestinazioneId, diametro, lunghezza, descrizione, cavi) VALUES\n",
    "  (1, 11, 1, 20,  35, 'linea luce balcone, neutro per LED, cavi 1 e 2 deviatori e linea luci diffuse', 6)\n",
    ", (2, 11, 1, 20,  35, 'cavi passanti per motorizzazione tapparella', 3)\n",
    ", (3, 12, 2, 20,  35, 'fase, neutro e terra da 2,5 mm^2', 3)\n",
    ", (4, 13, 3, 20,   5, 'fase lampadario e deviatore, ritorno e cavi 1 e 2', 4)\n",
    ", (5, 14, 4, 20,  75, 'fase, neutro e terra da 2,5 mm^2', 3)\n",
    ", (6, 14, 5, 20, 105, 'fase, neutro e terra da 2,5 mm^2', 3)\n",
    ";"
   ]
  },
  {
   "cell_type": "code",
   "execution_count": null,
   "id": "a47cd4ef-736c-42da-93cb-c999124ffd2b",
   "metadata": {},
   "outputs": [
    {
     "name": "stdout",
     "output_type": "stream",
     "text": [
      "OK\n"
     ]
    }
   ],
   "source": [
    "DROP TABLE IF EXISTS Linea;"
   ]
  },
  {
   "cell_type": "code",
   "execution_count": null,
   "id": "c736352d-a396-45da-8b4b-21ff3e9cda6a",
   "metadata": {},
   "outputs": [
    {
     "name": "stdout",
     "output_type": "stream",
     "text": [
      "OK\n"
     ]
    }
   ],
   "source": [
    "CREATE TABLE Linea (\n",
    "    lineaId INTEGER PRIMARY KEY,\n",
    "    linea TEXT\n",
    ");"
   ]
  },
  {
   "cell_type": "code",
   "execution_count": null,
   "id": "28fe04c0-b0ae-4b90-a89e-624959ec3e04",
   "metadata": {},
   "outputs": [
    {
     "name": "stdout",
     "output_type": "stream",
     "text": [
      "OK\n"
     ]
    }
   ],
   "source": [
    "INSERT INTO Linea (lineaId, linea) VALUES\n",
    "  (1, 'Fase Luce reparto giorno')\n",
    ", (2, 'Neutro Luce reparto giorno')\n",
    ", (3, 'Linea 1 deviatore')\n",
    ", (4, 'Linea 2 deviatore')\n",
    ", (5, 'Fase Prese zona cottura')\n",
    ", (6, 'Neutro Prese zona cottura')\n",
    ", (7, 'Fase prese reparto giorno')\n",
    ", (8, 'Neutro prese reparto giorno')\n",
    ";"
   ]
  },
  {
   "cell_type": "code",
   "execution_count": null,
   "id": "de55ba9b-29d9-47ef-bb23-2bb4de10ced4",
   "metadata": {},
   "outputs": [
    {
     "name": "stdout",
     "output_type": "stream",
     "text": [
      "OK\n"
     ]
    }
   ],
   "source": [
    "DROP TABLE IF EXISTS Cavo;"
   ]
  },
  {
   "cell_type": "code",
   "execution_count": null,
   "id": "ef6f8fde-5771-4e8a-b211-bf237faaa5ab",
   "metadata": {},
   "outputs": [
    {
     "name": "stdout",
     "output_type": "stream",
     "text": [
      "OK\n"
     ]
    }
   ],
   "source": [
    "CREATE TABLE Cavo (\n",
    "    cavoId INTEGER PRIMARY KEY,\n",
    "    tipoCavoId INTEGER REFERENCES TipoCavo(tipoCavoId),\n",
    "    lineaId INTEGER REFERENCES Linea(lineaId),\n",
    "    canalizzazioneId INTEGER REFERENCES Canalizzazione(canalizzazioneId)\n",
    ");"
   ]
  },
  {
   "cell_type": "code",
   "execution_count": null,
   "id": "b1f42c66-4d1f-451f-af2b-eb85aa862cc1",
   "metadata": {},
   "outputs": [
    {
     "name": "stdout",
     "output_type": "stream",
     "text": [
      "OK\n"
     ]
    }
   ],
   "source": [
    "-- Inserire i cavi"
   ]
  },
  {
   "cell_type": "code",
   "execution_count": null,
   "id": "58deda5c-30dc-4fbd-8d5b-989ba353ae61",
   "metadata": {},
   "outputs": [
    {
     "name": "stdout",
     "output_type": "stream",
     "text": [
      "OK\n"
     ]
    }
   ],
   "source": [
    "DROP TABLE IF EXISTS Frutto;"
   ]
  },
  {
   "cell_type": "code",
   "execution_count": null,
   "id": "e33973de-d36f-49c5-b5ff-61bea449fb6b",
   "metadata": {},
   "outputs": [
    {
     "name": "stdout",
     "output_type": "stream",
     "text": [
      "OK\n"
     ]
    }
   ],
   "source": [
    "CREATE TABLE Frutto (\n",
    "    fruttoId INTEGER PRIMARY KEY,\n",
    "    tipoFruttoId INTEGER REFERENCES TipoFrutto(tipoFruttoId),\n",
    "    scatolaId INTEGER REFERENCES Scatola(scatolaId),\n",
    "    posizione INTEGER,\n",
    "    UNIQUE(scatolaId, posizione)\n",
    ");"
   ]
  },
  {
   "cell_type": "code",
   "execution_count": null,
   "id": "895b1615-b6e4-45ab-ae12-85d07d06cba4",
   "metadata": {},
   "outputs": [
    {
     "name": "stdout",
     "output_type": "stream",
     "text": [
      "OK\n"
     ]
    }
   ],
   "source": [
    "INSERT INTO Frutto (fruttoId, tipoFruttoId, scatolaId, posizione) VALUES\n",
    "  (1, 2, 1, 1)\n",
    ", (2, 3, 1, 3)\n",
    ", (3, 5, 2, 1)\n",
    ", (4, 4, 2, 3)\n",
    ", (5, 1, 3, 1)\n",
    ", (6, 3, 3, 3)\n",
    ", (7, 5, 4, 1)\n",
    ", (8, 5, 5, 1)\n",
    ";"
   ]
  },
  {
   "cell_type": "code",
   "execution_count": null,
   "id": "18bc9749-20d9-4ca9-a28c-b8239e3617b9",
   "metadata": {},
   "outputs": [
    {
     "name": "stdout",
     "output_type": "stream",
     "text": [
      "near \"EXISTS\": syntax error\n"
     ]
    }
   ],
   "source": [
    "DROP TABLE ID EXISTS TipoMorsetto;"
   ]
  },
  {
   "cell_type": "code",
   "execution_count": null,
   "id": "9b3d9f98-c29a-4269-84c7-e70e6601adb2",
   "metadata": {},
   "outputs": [
    {
     "name": "stdout",
     "output_type": "stream",
     "text": [
      "OK\n"
     ]
    }
   ],
   "source": [
    "CREATE TABLE TipoMorsetto (\n",
    "    tipoMorsettoId INTEGER PRIMARY KEY,\n",
    "    tipo TEXT,\n",
    "    diametro INTEGER\n",
    ");"
   ]
  },
  {
   "cell_type": "code",
   "execution_count": null,
   "id": "73594a1a-d7da-468a-91c8-0a545d9830ba",
   "metadata": {},
   "outputs": [
    {
     "name": "stdout",
     "output_type": "stream",
     "text": [
      "OK\n"
     ]
    }
   ],
   "source": [
    "-- Inserisci TipoMorsetto"
   ]
  },
  {
   "cell_type": "code",
   "execution_count": null,
   "id": "b2878d58-285c-47fc-b6ea-b05992c5c28e",
   "metadata": {},
   "outputs": [
    {
     "name": "stdout",
     "output_type": "stream",
     "text": [
      "OK\n"
     ]
    }
   ],
   "source": [
    "DROP TABLE IF EXISTS Connessione;"
   ]
  },
  {
   "cell_type": "code",
   "execution_count": null,
   "id": "e615382f-3b8c-4910-8486-5fe20fd27bef",
   "metadata": {},
   "outputs": [
    {
     "name": "stdout",
     "output_type": "stream",
     "text": [
      "near \"CRATE\": syntax error\n"
     ]
    }
   ],
   "source": [
    "CRATE TABLE Connessione (\n",
    "    -- scatolaId INTEGER REFERENCES Scatola(scatolaId),\n",
    "    cavoOrigineId INTEGER REFERENCES Cavo(cavoId),\n",
    "    cavoDestinazioneId INTEGER REFERENCES Cavo(cavoId),\n",
    "    tipoMorsettoId REFERENCES TipoMorsetto(tipoMorsettoId),\n",
    "    PRIMARY KEY(cavoOrigineId, cavoDestinazioneId)\n",
    ");"
   ]
  },
  {
   "cell_type": "code",
   "execution_count": null,
   "id": "e0ab2cb7-f593-4e3d-b5b8-eb47947b3322",
   "metadata": {},
   "outputs": [
    {
     "name": "stdout",
     "output_type": "stream",
     "text": [
      "OK\n"
     ]
    }
   ],
   "source": [
    "-- INSERT Connessione"
   ]
  },
  {
   "cell_type": "code",
   "execution_count": null,
   "id": "3b9d6bc6-0c85-4c1f-808d-ec7296b883a3",
   "metadata": {},
   "outputs": [
    {
     "name": "stdout",
     "output_type": "stream",
     "text": [
      "view view_Prospetto_scatole already exists\n"
     ]
    }
   ],
   "source": [
    "CREATE VIEW view_Prospetto_scatole AS\n",
    "SELECT\n",
    "    SC.scatolaId,\n",
    "    P.parete parete,\n",
    "    T.descrizione,\n",
    "    tipoScatola,\n",
    "    lunghezza,\n",
    "    larghezza,\n",
    "    SP.parete spigolo,\n",
    "    distanzaSpigolo,\n",
    "    altezzaTerra\n",
    "FROM Scatola SC\n",
    "        INNER JOIN Parete P USING (pareteId)\n",
    "\t\tINNER JOIN Parete SP ON (SC.spigolo = SP.pareteId)\n",
    "\t\tINNER JOIN TipoScatola T USING(tipoScatolaId);"
   ]
  },
  {
   "cell_type": "code",
   "execution_count": null,
   "id": "0453e8e1-9b54-42a1-9e9d-54404815a5b0",
   "metadata": {},
   "outputs": [
    {
     "name": "stdout",
     "output_type": "stream",
     "text": [
      "view view_Prospetto_canalizzazioni already exists\n"
     ]
    }
   ],
   "source": [
    "CREATE VIEW view_Prospetto_canalizzazioni AS\n",
    "SELECT \n",
    "    canalizzazioneId,\n",
    "    diametro,\n",
    "    lunghezza,\n",
    "    C.descrizione,\n",
    "    cavi,\n",
    "    O.descrizione origine,\n",
    "    D.descrizione destinazione\n",
    "FROM\n",
    "    Canalizzazione C\n",
    "        INNER JOIN Scatola O ON (C.scatolaOrigineId = O.scatolaId)\n",
    "        INNER JOIN Scatola D ON (C.scatolaDestinazioneId = D.scatolaId)"
   ]
  },
  {
   "cell_type": "code",
   "execution_count": null,
   "id": "eacd7440-d5bb-4f24-86f9-a8406d041ed1",
   "metadata": {},
   "outputs": [
    {
     "name": "stdout",
     "output_type": "stream",
     "text": [
      "view view_Prospetto_frutti already exists\n"
     ]
    }
   ],
   "source": [
    "CREATE VIEW view_Prospetto_frutti AS\n",
    "SELECT\n",
    "    F.fruttoId,  F.posizione, T.frutto, S.scatolaId, S.descrizione\n",
    "FROM\n",
    "    FRUTTO F\n",
    "        INNER JOIN TipoFrutto T USING (tipoFruttoId)\n",
    "        INNER JOIN Scatola S USING (scatolaId)"
   ]
  }
 ],
 "metadata": {
  "kernelspec": {
   "display_name": "SQLite Kernel",
   "language": "sql",
   "name": "sqlik"
  },
  "language_info": {
   "file_extension": ".sql",
   "mimetype": "text/plain",
   "name": "sqlik"
  }
 },
 "nbformat": 4,
 "nbformat_minor": 5
}
