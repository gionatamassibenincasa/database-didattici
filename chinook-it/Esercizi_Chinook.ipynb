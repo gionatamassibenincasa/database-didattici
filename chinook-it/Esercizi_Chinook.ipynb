{
 "cells": [
  {
   "cell_type": "markdown",
   "id": "d3914dc2-d2e8-4b55-8218-a7516b9e21ac",
   "metadata": {},
   "source": [
    "# Esercizi con Chinook-it\n",
    "\n",
    "## Connessione al database e impostazione dell'output"
   ]
  },
  {
   "cell_type": "code",
   "execution_count": null,
   "id": "e535b060-cbb3-4491-b389-aa90d939f604",
   "metadata": {},
   "outputs": [
    {
     "name": "stdout",
     "output_type": "stream",
     "text": [
      "CONNECTED\n",
      "Output mode set to html\n"
     ]
    }
   ],
   "source": [
    "--% dbcon:{\"dbfile\" : \"chinook-it.sqlite\"}\n",
    "--% ohtml"
   ]
  },
  {
   "cell_type": "markdown",
   "id": "3ef2e4be-5c29-4cb4-a463-df696cbd0ef0",
   "metadata": {},
   "source": [
    "## Query semplici\n",
    "\n",
    "### SELECT, FROM e LIMIT"
   ]
  },
  {
   "cell_type": "markdown",
   "id": "48d12702-f4b4-48b3-9ac1-283f23d00c42",
   "metadata": {},
   "source": [
    "### Elenca tutte le righe della tabella sui formati multimediali"
   ]
  },
  {
   "cell_type": "code",
   "execution_count": null,
   "id": "2fc2d7b8-f05e-4a77-ad9d-478d0b1d4d74",
   "metadata": {},
   "outputs": [
    {
     "data": {
      "text/html": [
       "<table><tr><td>FormatoMultimedialeId</td><td>Nome</td></tr><tr><td>1</td><td>MPEG audio file</td></tr><tr><td>2</td><td>Protected AAC audio file</td></tr><tr><td>3</td><td>Protected MPEG-4 video file</td></tr><tr><td>4</td><td>Purchased AAC audio file</td></tr><tr><td>5</td><td>AAC audio file</td></tr></table>"
      ]
     },
     "metadata": {},
     "output_type": "display_data"
    }
   ],
   "source": [
    "SELECT *\n",
    "FROM FormatoMultimediale"
   ]
  },
  {
   "cell_type": "markdown",
   "id": "1b5dfec6-0a1a-4513-98b3-5c080ff544c8",
   "metadata": {},
   "source": [
    "### Elenca solo il nome del formato multimediale"
   ]
  },
  {
   "cell_type": "code",
   "execution_count": null,
   "id": "a9c31bdd-41a6-4774-86e2-641c27570e61",
   "metadata": {},
   "outputs": [
    {
     "data": {
      "text/html": [
       "<table><tr><td>Nome</td></tr><tr><td>MPEG audio file</td></tr><tr><td>Protected AAC audio file</td></tr><tr><td>Protected MPEG-4 video file</td></tr><tr><td>Purchased AAC audio file</td></tr><tr><td>AAC audio file</td></tr></table>"
      ]
     },
     "metadata": {},
     "output_type": "display_data"
    }
   ],
   "source": [
    "SELECT Nome\n",
    "FROM FormatoMultimediale"
   ]
  },
  {
   "cell_type": "markdown",
   "id": "03e47113-9bec-49db-90c1-1cb1467a2d17",
   "metadata": {},
   "source": [
    "### Elenca le prime 10 righe della tabella clienti"
   ]
  },
  {
   "cell_type": "code",
   "execution_count": null,
   "id": "807081fb-e6bd-49f5-8ebb-169c916318fd",
   "metadata": {},
   "outputs": [
    {
     "data": {
      "text/html": [
       "<table><tr><td>ClienteId</td><td>Nome</td><td>Cognome</td><td>Societa</td><td>Indirizzo</td><td>Citta</td><td>Stato</td><td>Nazione</td><td>CodicePostale</td><td>Telefono</td><td>Fax</td><td>Email</td><td>AssistenteId</td></tr><tr><td>1</td><td>Luís</td><td>Gonçalves</td><td>Embraer - Empresa Brasileira de Aeronáutica S.A.</td><td>Av. Brigadeiro Faria Lima, 2170</td><td>São José dos Campos</td><td>SP</td><td>Brazil</td><td>12227-000</td><td>+55 (12) 3923-5555</td><td>+55 (12) 3923-5566</td><td>luisg@embraer.com.br</td><td>3</td></tr><tr><td>2</td><td>Leonie</td><td>Köhler</td><td>None</td><td>Theodor-Heuss-Straße 34</td><td>Stuttgart</td><td>None</td><td>Germany</td><td>70174</td><td>+49 0711 2842222</td><td>None</td><td>leonekohler@surfeu.de</td><td>5</td></tr><tr><td>3</td><td>François</td><td>Tremblay</td><td>None</td><td>1498 rue Bélanger</td><td>Montréal</td><td>QC</td><td>Canada</td><td>H2G 1A7</td><td>+1 (514) 721-4711</td><td>None</td><td>ftremblay@gmail.com</td><td>3</td></tr><tr><td>4</td><td>Bjørn</td><td>Hansen</td><td>None</td><td>Ullevålsveien 14</td><td>Oslo</td><td>None</td><td>Norway</td><td>0171</td><td>+47 22 44 22 22</td><td>None</td><td>bjorn.hansen@yahoo.no</td><td>4</td></tr><tr><td>5</td><td>František</td><td>Wichterlová</td><td>JetBrains s.r.o.</td><td>Klanova 9/506</td><td>Prague</td><td>None</td><td>Czech Republic</td><td>14700</td><td>+420 2 4172 5555</td><td>+420 2 4172 5555</td><td>frantisekw@jetbrains.com</td><td>4</td></tr><tr><td>6</td><td>Helena</td><td>Holý</td><td>None</td><td>Rilská 3174/6</td><td>Prague</td><td>None</td><td>Czech Republic</td><td>14300</td><td>+420 2 4177 0449</td><td>None</td><td>hholy@gmail.com</td><td>5</td></tr><tr><td>7</td><td>Astrid</td><td>Gruber</td><td>None</td><td>Rotenturmstraße 4, 1010 Innere Stadt</td><td>Vienne</td><td>None</td><td>Austria</td><td>1010</td><td>+43 01 5134505</td><td>None</td><td>astrid.gruber@apple.at</td><td>5</td></tr><tr><td>8</td><td>Daan</td><td>Peeters</td><td>None</td><td>Grétrystraat 63</td><td>Brussels</td><td>None</td><td>Belgium</td><td>1000</td><td>+32 02 219 03 03</td><td>None</td><td>daan_peeters@apple.be</td><td>4</td></tr><tr><td>9</td><td>Kara</td><td>Nielsen</td><td>None</td><td>Sønder Boulevard 51</td><td>Copenhagen</td><td>None</td><td>Denmark</td><td>1720</td><td>+453 3331 9991</td><td>None</td><td>kara.nielsen@jubii.dk</td><td>4</td></tr><tr><td>10</td><td>Eduardo</td><td>Martins</td><td>Woodstock Discos</td><td>Rua Dr. Falcão Filho, 155</td><td>São Paulo</td><td>SP</td><td>Brazil</td><td>01007-010</td><td>+55 (11) 3033-5446</td><td>+55 (11) 3033-4564</td><td>eduardo@woodstock.com.br</td><td>4</td></tr></table>"
      ]
     },
     "metadata": {},
     "output_type": "display_data"
    }
   ],
   "source": [
    "SELECT *\n",
    "FROM 'Cliente'\n",
    "LIMIT 10"
   ]
  },
  {
   "cell_type": "markdown",
   "id": "fc573ac7-8519-465c-ada2-a72d92ca53a8",
   "metadata": {},
   "source": [
    "### Elenca nome e cognome dei primi 10 clienti"
   ]
  },
  {
   "cell_type": "code",
   "execution_count": null,
   "id": "0d54c040-381d-49fa-b7e8-f3619a9172f2",
   "metadata": {},
   "outputs": [
    {
     "data": {
      "text/html": [
       "<table><tr><td>Nome</td><td>Cognome</td></tr><tr><td>Luís</td><td>Gonçalves</td></tr><tr><td>Leonie</td><td>Köhler</td></tr><tr><td>François</td><td>Tremblay</td></tr><tr><td>Bjørn</td><td>Hansen</td></tr><tr><td>František</td><td>Wichterlová</td></tr><tr><td>Helena</td><td>Holý</td></tr><tr><td>Astrid</td><td>Gruber</td></tr><tr><td>Daan</td><td>Peeters</td></tr><tr><td>Kara</td><td>Nielsen</td></tr><tr><td>Eduardo</td><td>Martins</td></tr></table>"
      ]
     },
     "metadata": {},
     "output_type": "display_data"
    }
   ],
   "source": [
    "SELECT Nome, Cognome\n",
    "FROM Cliente\n",
    "LIMIT 10;"
   ]
  },
  {
   "cell_type": "code",
   "execution_count": null,
   "id": "c99800b2-2bd3-4a9e-ac08-0331f03112ab",
   "metadata": {},
   "outputs": [],
   "source": []
  }
 ],
 "metadata": {
  "kernelspec": {
   "display_name": "SQLite Kernel",
   "language": "sql",
   "name": "sqlik"
  },
  "language_info": {
   "file_extension": ".sql",
   "mimetype": "text/plain",
   "name": "sqlik"
  }
 },
 "nbformat": 4,
 "nbformat_minor": 5
}
