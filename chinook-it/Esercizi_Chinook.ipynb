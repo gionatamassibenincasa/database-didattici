{
 "cells": [
  {
   "cell_type": "markdown",
   "id": "d3914dc2-d2e8-4b55-8218-a7516b9e21ac",
   "metadata": {},
   "source": [
    "# Esercizi con Chinook-it\n",
    "\n",
    "## Connessione al database e impostazione dell'output"
   ]
  },
  {
   "cell_type": "code",
   "execution_count": null,
   "id": "e535b060-cbb3-4491-b389-aa90d939f604",
   "metadata": {},
   "outputs": [
    {
     "name": "stdout",
     "output_type": "stream",
     "text": [
      "CONNECTED\n",
      "Output mode set to html\n"
     ]
    }
   ],
   "source": [
    "--% dbcon:{\"dbfile\" : \"chinook-it.sqlite\"}\n",
    "--% ohtml"
   ]
  },
  {
   "cell_type": "code",
   "execution_count": null,
   "id": "77840320-2315-4212-a56c-5640f4c10b28",
   "metadata": {},
   "outputs": [
    {
     "data": {
      "text/html": [
       "OK"
      ]
     },
     "metadata": {},
     "output_type": "display_data"
    }
   ],
   "source": [
    "--% toc"
   ]
  },
  {
   "cell_type": "markdown",
   "id": "3ef2e4be-5c29-4cb4-a463-df696cbd0ef0",
   "metadata": {},
   "source": [
    "## Query semplici\n",
    "\n",
    "### SELECT, FROM e LIMIT"
   ]
  },
  {
   "cell_type": "markdown",
   "id": "48d12702-f4b4-48b3-9ac1-283f23d00c42",
   "metadata": {},
   "source": [
    "### Elenca tutte le righe della tabella sui formati multimediali"
   ]
  },
  {
   "cell_type": "code",
   "execution_count": null,
   "id": "2fc2d7b8-f05e-4a77-ad9d-478d0b1d4d74",
   "metadata": {},
   "outputs": [
    {
     "data": {
      "text/html": [
       "<table><tr><td>FormatoMultimedialeId</td><td>Nome</td></tr><tr><td>1</td><td>MPEG audio file</td></tr><tr><td>2</td><td>Protected AAC audio file</td></tr><tr><td>3</td><td>Protected MPEG-4 video file</td></tr><tr><td>4</td><td>Purchased AAC audio file</td></tr><tr><td>5</td><td>AAC audio file</td></tr></table>"
      ]
     },
     "metadata": {},
     "output_type": "display_data"
    }
   ],
   "source": [
    "SELECT *\n",
    "FROM FormatoMultimediale"
   ]
  },
  {
   "cell_type": "markdown",
   "id": "1b5dfec6-0a1a-4513-98b3-5c080ff544c8",
   "metadata": {},
   "source": [
    "### Elenca solo il nome del formato multimediale"
   ]
  },
  {
   "cell_type": "code",
   "execution_count": null,
   "id": "a9c31bdd-41a6-4774-86e2-641c27570e61",
   "metadata": {},
   "outputs": [
    {
     "data": {
      "text/html": [
       "<table><tr><td>Nome</td></tr><tr><td>MPEG audio file</td></tr><tr><td>Protected AAC audio file</td></tr><tr><td>Protected MPEG-4 video file</td></tr><tr><td>Purchased AAC audio file</td></tr><tr><td>AAC audio file</td></tr></table>"
      ]
     },
     "metadata": {},
     "output_type": "display_data"
    }
   ],
   "source": [
    "SELECT Nome\n",
    "FROM FormatoMultimediale"
   ]
  },
  {
   "cell_type": "markdown",
   "id": "03e47113-9bec-49db-90c1-1cb1467a2d17",
   "metadata": {},
   "source": [
    "### Elenca le prime 10 righe della tabella clienti"
   ]
  },
  {
   "cell_type": "code",
   "execution_count": null,
   "id": "807081fb-e6bd-49f5-8ebb-169c916318fd",
   "metadata": {},
   "outputs": [
    {
     "data": {
      "text/html": [
       "<table><tr><td>ClienteId</td><td>Nome</td><td>Cognome</td><td>Societa</td><td>Indirizzo</td><td>Citta</td><td>Stato</td><td>Nazione</td><td>CodicePostale</td><td>Telefono</td><td>Fax</td><td>Email</td><td>AssistenteId</td></tr><tr><td>1</td><td>Luís</td><td>Gonçalves</td><td>Embraer - Empresa Brasileira de Aeronáutica S.A.</td><td>Av. Brigadeiro Faria Lima, 2170</td><td>São José dos Campos</td><td>SP</td><td>Brazil</td><td>12227-000</td><td>+55 (12) 3923-5555</td><td>+55 (12) 3923-5566</td><td>luisg@embraer.com.br</td><td>3</td></tr><tr><td>2</td><td>Leonie</td><td>Köhler</td><td>None</td><td>Theodor-Heuss-Straße 34</td><td>Stuttgart</td><td>None</td><td>Germany</td><td>70174</td><td>+49 0711 2842222</td><td>None</td><td>leonekohler@surfeu.de</td><td>5</td></tr><tr><td>3</td><td>François</td><td>Tremblay</td><td>None</td><td>1498 rue Bélanger</td><td>Montréal</td><td>QC</td><td>Canada</td><td>H2G 1A7</td><td>+1 (514) 721-4711</td><td>None</td><td>ftremblay@gmail.com</td><td>3</td></tr><tr><td>4</td><td>Bjørn</td><td>Hansen</td><td>None</td><td>Ullevålsveien 14</td><td>Oslo</td><td>None</td><td>Norway</td><td>0171</td><td>+47 22 44 22 22</td><td>None</td><td>bjorn.hansen@yahoo.no</td><td>4</td></tr><tr><td>5</td><td>František</td><td>Wichterlová</td><td>JetBrains s.r.o.</td><td>Klanova 9/506</td><td>Prague</td><td>None</td><td>Czech Republic</td><td>14700</td><td>+420 2 4172 5555</td><td>+420 2 4172 5555</td><td>frantisekw@jetbrains.com</td><td>4</td></tr><tr><td>6</td><td>Helena</td><td>Holý</td><td>None</td><td>Rilská 3174/6</td><td>Prague</td><td>None</td><td>Czech Republic</td><td>14300</td><td>+420 2 4177 0449</td><td>None</td><td>hholy@gmail.com</td><td>5</td></tr><tr><td>7</td><td>Astrid</td><td>Gruber</td><td>None</td><td>Rotenturmstraße 4, 1010 Innere Stadt</td><td>Vienne</td><td>None</td><td>Austria</td><td>1010</td><td>+43 01 5134505</td><td>None</td><td>astrid.gruber@apple.at</td><td>5</td></tr><tr><td>8</td><td>Daan</td><td>Peeters</td><td>None</td><td>Grétrystraat 63</td><td>Brussels</td><td>None</td><td>Belgium</td><td>1000</td><td>+32 02 219 03 03</td><td>None</td><td>daan_peeters@apple.be</td><td>4</td></tr><tr><td>9</td><td>Kara</td><td>Nielsen</td><td>None</td><td>Sønder Boulevard 51</td><td>Copenhagen</td><td>None</td><td>Denmark</td><td>1720</td><td>+453 3331 9991</td><td>None</td><td>kara.nielsen@jubii.dk</td><td>4</td></tr><tr><td>10</td><td>Eduardo</td><td>Martins</td><td>Woodstock Discos</td><td>Rua Dr. Falcão Filho, 155</td><td>São Paulo</td><td>SP</td><td>Brazil</td><td>01007-010</td><td>+55 (11) 3033-5446</td><td>+55 (11) 3033-4564</td><td>eduardo@woodstock.com.br</td><td>4</td></tr></table>"
      ]
     },
     "metadata": {},
     "output_type": "display_data"
    }
   ],
   "source": [
    "SELECT *\n",
    "FROM Cliente\n",
    "LIMIT 10"
   ]
  },
  {
   "cell_type": "markdown",
   "id": "fc573ac7-8519-465c-ada2-a72d92ca53a8",
   "metadata": {},
   "source": [
    "### Elenca nome e cognome dei primi 10 clienti"
   ]
  },
  {
   "cell_type": "code",
   "execution_count": null,
   "id": "0d54c040-381d-49fa-b7e8-f3619a9172f2",
   "metadata": {},
   "outputs": [
    {
     "data": {
      "text/html": [
       "<table><tr><td>Nome</td><td>Cognome</td></tr><tr><td>Luís</td><td>Gonçalves</td></tr><tr><td>Leonie</td><td>Köhler</td></tr><tr><td>François</td><td>Tremblay</td></tr><tr><td>Bjørn</td><td>Hansen</td></tr><tr><td>František</td><td>Wichterlová</td></tr><tr><td>Helena</td><td>Holý</td></tr><tr><td>Astrid</td><td>Gruber</td></tr><tr><td>Daan</td><td>Peeters</td></tr><tr><td>Kara</td><td>Nielsen</td></tr><tr><td>Eduardo</td><td>Martins</td></tr></table>"
      ]
     },
     "metadata": {},
     "output_type": "display_data"
    }
   ],
   "source": [
    "SELECT Nome, Cognome\n",
    "FROM Cliente\n",
    "LIMIT 10;"
   ]
  },
  {
   "cell_type": "markdown",
   "id": "7959477f-62a7-4988-9371-7f74b496f689",
   "metadata": {},
   "source": [
    "## LIMIT e ORDER BY"
   ]
  },
  {
   "cell_type": "markdown",
   "id": "e867e172-af97-4ef6-ad04-ae57c2710e2b",
   "metadata": {},
   "source": [
    "### Elenca le 10 fatture più recenti elencando FatturaId, DataFatturazione e Totale"
   ]
  },
  {
   "cell_type": "code",
   "execution_count": null,
   "id": "baa8c800-d7c5-49b9-b1cd-44628bd02d2b",
   "metadata": {},
   "outputs": [
    {
     "data": {
      "text/html": [
       "<table><tr><td>FatturaId</td><td>DataFatturazione</td><td>Totale</td></tr><tr><td>412</td><td>2013-12-22 00:00:00</td><td>1.99</td></tr><tr><td>411</td><td>2013-12-14 00:00:00</td><td>13.86</td></tr><tr><td>410</td><td>2013-12-09 00:00:00</td><td>8.91</td></tr><tr><td>409</td><td>2013-12-06 00:00:00</td><td>5.94</td></tr><tr><td>408</td><td>2013-12-05 00:00:00</td><td>3.96</td></tr><tr><td>406</td><td>2013-12-04 00:00:00</td><td>1.98</td></tr><tr><td>407</td><td>2013-12-04 00:00:00</td><td>1.98</td></tr><tr><td>405</td><td>2013-11-21 00:00:00</td><td>0.99</td></tr><tr><td>404</td><td>2013-11-13 00:00:00</td><td>25.86</td></tr><tr><td>403</td><td>2013-11-08 00:00:00</td><td>8.91</td></tr></table>"
      ]
     },
     "metadata": {},
     "output_type": "display_data"
    }
   ],
   "source": [
    "SELECT FatturaId, DataFatturazione, Totale\n",
    "FROM Fattura\n",
    "ORDER BY DataFatturazione DESC\n",
    "LIMIT 10"
   ]
  },
  {
   "cell_type": "markdown",
   "id": "6319a6c2-77c0-45c7-a91e-94b6bf4d5f30",
   "metadata": {},
   "source": [
    "### Elenca le 6 fatture con gli importi maggiori indicando FatturaId, DataFatturazione e Totale"
   ]
  },
  {
   "cell_type": "code",
   "execution_count": null,
   "id": "a4c24fa2-dfc1-44fb-a740-045b4250a00b",
   "metadata": {},
   "outputs": [
    {
     "data": {
      "text/html": [
       "<table><tr><td>FatturaId</td><td>DataFatturazione</td><td>Totale</td></tr><tr><td>404</td><td>2013-11-13 00:00:00</td><td>25.86</td></tr><tr><td>299</td><td>2012-08-05 00:00:00</td><td>23.86</td></tr><tr><td>96</td><td>2010-02-18 00:00:00</td><td>21.86</td></tr><tr><td>194</td><td>2011-04-28 00:00:00</td><td>21.86</td></tr><tr><td>89</td><td>2010-01-18 00:00:00</td><td>18.86</td></tr><tr><td>201</td><td>2011-05-29 00:00:00</td><td>18.86</td></tr></table>"
      ]
     },
     "metadata": {},
     "output_type": "display_data"
    }
   ],
   "source": [
    "SELECT FatturaId, DataFatturazione, Totale\n",
    "FROM Fattura\n",
    "ORDER BY Totale DESC\n",
    "LIMIT 6"
   ]
  },
  {
   "cell_type": "markdown",
   "id": "b1094532-3a5e-40ac-8444-79a5c8487af0",
   "metadata": {},
   "source": [
    "### Elenca FatturaId, DataFatturazione e Totale delle prime 12 fatture ordinate per importo totale, dal più grande al più piccolo, e per data, dalla meno recente alla più recente"
   ]
  },
  {
   "cell_type": "code",
   "execution_count": null,
   "id": "4ce8932f-ba59-49b2-9950-59d7bb9be2f8",
   "metadata": {},
   "outputs": [
    {
     "data": {
      "text/html": [
       "<table><tr><td>FatturaId</td><td>DataFatturazione</td><td>Totale</td></tr><tr><td>404</td><td>2013-11-13 00:00:00</td><td>25.86</td></tr><tr><td>299</td><td>2012-08-05 00:00:00</td><td>23.86</td></tr><tr><td>96</td><td>2010-02-18 00:00:00</td><td>21.86</td></tr><tr><td>194</td><td>2011-04-28 00:00:00</td><td>21.86</td></tr><tr><td>89</td><td>2010-01-18 00:00:00</td><td>18.86</td></tr><tr><td>201</td><td>2011-05-29 00:00:00</td><td>18.86</td></tr><tr><td>88</td><td>2010-01-13 00:00:00</td><td>17.91</td></tr><tr><td>306</td><td>2012-09-05 00:00:00</td><td>16.86</td></tr><tr><td>313</td><td>2012-10-06 00:00:00</td><td>16.86</td></tr><tr><td>103</td><td>2010-03-21 00:00:00</td><td>15.86</td></tr><tr><td>208</td><td>2011-06-29 00:00:00</td><td>15.86</td></tr><tr><td>193</td><td>2011-04-23 00:00:00</td><td>14.91</td></tr></table>"
      ]
     },
     "metadata": {},
     "output_type": "display_data"
    }
   ],
   "source": [
    "SELECT FatturaId, DataFatturazione, Totale\n",
    "FROM Fattura\n",
    "ORDER BY Totale DESC, DataFatturazione\n",
    "LIMIT 12"
   ]
  },
  {
   "cell_type": "markdown",
   "id": "121d8f01-d199-40a8-b8f4-0b4de73ffa74",
   "metadata": {},
   "source": [
    "## WHERE - Operatori relazionali"
   ]
  },
  {
   "cell_type": "markdown",
   "id": "a51a7d32-1515-4c38-9f2e-54168167763d",
   "metadata": {},
   "source": [
    "### Elenca le righe relative ai clienti la cui nazione di residenza sia 'Italy'"
   ]
  },
  {
   "cell_type": "code",
   "execution_count": null,
   "id": "50ac754f-90c0-41e7-b345-c40009348af2",
   "metadata": {},
   "outputs": [
    {
     "data": {
      "text/html": [
       "<table><tr><td>ClienteId</td><td>Nome</td><td>Cognome</td><td>Societa</td><td>Indirizzo</td><td>Citta</td><td>Stato</td><td>Nazione</td><td>CodicePostale</td><td>Telefono</td><td>Fax</td><td>Email</td><td>AssistenteId</td></tr><tr><td>47</td><td>Lucas</td><td>Mancini</td><td>None</td><td>Via Degli Scipioni, 43</td><td>Rome</td><td>RM</td><td>Italy</td><td>00192</td><td>+39 06 39733434</td><td>None</td><td>lucas.mancini@yahoo.it</td><td>5</td></tr></table>"
      ]
     },
     "metadata": {},
     "output_type": "display_data"
    }
   ],
   "source": [
    "SELECT *\n",
    "FROM Cliente\n",
    "WHERE Nazione = \"Italy\""
   ]
  },
  {
   "cell_type": "markdown",
   "id": "e22c120f-82ce-4c51-9bfa-7871a3a95c00",
   "metadata": {},
   "source": [
    "### Elenca FatturaId, DataFatturazione e Totale delle fatture con Totale maggiore o uguale a 18"
   ]
  },
  {
   "cell_type": "code",
   "execution_count": null,
   "id": "c7889aa3-7d71-4b39-86e4-31ac6ad000ce",
   "metadata": {},
   "outputs": [
    {
     "data": {
      "text/html": [
       "<table><tr><td>FatturaId</td><td>DataFatturazione</td><td>Totale</td></tr><tr><td>89</td><td>2010-01-18 00:00:00</td><td>18.86</td></tr><tr><td>96</td><td>2010-02-18 00:00:00</td><td>21.86</td></tr><tr><td>194</td><td>2011-04-28 00:00:00</td><td>21.86</td></tr><tr><td>201</td><td>2011-05-29 00:00:00</td><td>18.86</td></tr><tr><td>299</td><td>2012-08-05 00:00:00</td><td>23.86</td></tr><tr><td>404</td><td>2013-11-13 00:00:00</td><td>25.86</td></tr></table>"
      ]
     },
     "metadata": {},
     "output_type": "display_data"
    }
   ],
   "source": [
    "SELECT FatturaId, DataFatturazione, Totale\n",
    "FROM Fattura\n",
    "WHERE Totale >= 18"
   ]
  },
  {
   "cell_type": "markdown",
   "id": "99ea1e3b-49f4-479a-848e-0747ecbb6678",
   "metadata": {},
   "source": [
    "### Elenca TracciaId, Nome e Millisecondi delle tracce che hanno una durata di almeno 49 minuti"
   ]
  },
  {
   "cell_type": "code",
   "execution_count": null,
   "id": "870b4d1b-17ef-4f49-8104-7b7e364d3437",
   "metadata": {},
   "outputs": [
    {
     "data": {
      "text/html": [
       "<table><tr><td>TracciaId</td><td>Nome</td><td>Millisecondi</td></tr><tr><td>2820</td><td>Occupation / Precipice</td><td>5286953</td></tr><tr><td>3224</td><td>Through a Looking Glass</td><td>5088838</td></tr><tr><td>3226</td><td>Battlestar Galactica, Pt. 1</td><td>2952702</td></tr><tr><td>3227</td><td>Battlestar Galactica, Pt. 2</td><td>2956081</td></tr><tr><td>3242</td><td>The Man With Nine Lives</td><td>2956998</td></tr><tr><td>3244</td><td>Greetings from Earth, Pt. 1</td><td>2960293</td></tr></table>"
      ]
     },
     "metadata": {},
     "output_type": "display_data"
    }
   ],
   "source": [
    "SELECT TracciaId, Nome, Millisecondi\n",
    "FROM Traccia\n",
    "WHERE Millisecondi >= 49 * 60 * 1000"
   ]
  },
  {
   "cell_type": "markdown",
   "id": "4ec0c4ff-3f49-4888-a550-34945da217db",
   "metadata": {},
   "source": [
    "### Elenca TracciaId, Nome e Byte delle tracce che hanno una dimensione in byte inferiori al milione di byte¶"
   ]
  },
  {
   "cell_type": "code",
   "execution_count": null,
   "id": "5281bf0e-898b-4ebf-8771-7f3e50309c45",
   "metadata": {},
   "outputs": [
    {
     "data": {
      "text/html": [
       "<table><tr><td>TracciaId</td><td>Nome</td><td>Byte</td></tr><tr><td>168</td><td>Now Sports</td><td>161266</td></tr><tr><td>170</td><td>A Statistic</td><td>211997</td></tr><tr><td>172</td><td>The Real Problem</td><td>387360</td></tr><tr><td>178</td><td>Oprah</td><td>224313</td></tr><tr><td>2241</td><td>Bossa</td><td>967098</td></tr><tr><td>2461</td><td>É Uma Partida De Futebol</td><td>38747</td></tr><tr><td>3304</td><td>Commercial 1</td><td>319888</td></tr><tr><td>3310</td><td>Commercial 2</td><td>850698</td></tr></table>"
      ]
     },
     "metadata": {},
     "output_type": "display_data"
    }
   ],
   "source": [
    "SELECT TracciaId, Nome, Byte\n",
    "FROM Traccia\n",
    "WHERE Byte < 1000000"
   ]
  },
  {
   "cell_type": "markdown",
   "id": "852edab7-f067-41a7-9350-896ed3e424de",
   "metadata": {},
   "source": [
    "## WHERE - Operatori LIKE, NOT, IN"
   ]
  },
  {
   "cell_type": "markdown",
   "id": "48ed4987-548b-42d7-b3e0-2acd9e210554",
   "metadata": {},
   "source": [
    "### Elenca i clienti che si chiamano 'Helena'"
   ]
  },
  {
   "cell_type": "code",
   "execution_count": null,
   "id": "23a75a71-cb00-4239-91a5-b08c105fa1a8",
   "metadata": {},
   "outputs": [
    {
     "data": {
      "text/html": [
       "<table><tr><td>ClienteId</td><td>Nome</td><td>Cognome</td><td>Societa</td><td>Indirizzo</td><td>Citta</td><td>Stato</td><td>Nazione</td><td>CodicePostale</td><td>Telefono</td><td>Fax</td><td>Email</td><td>AssistenteId</td></tr><tr><td>6</td><td>Helena</td><td>Holý</td><td>None</td><td>Rilská 3174/6</td><td>Prague</td><td>None</td><td>Czech Republic</td><td>14300</td><td>+420 2 4177 0449</td><td>None</td><td>hholy@gmail.com</td><td>5</td></tr></table>"
      ]
     },
     "metadata": {},
     "output_type": "display_data"
    }
   ],
   "source": [
    "SELECT *\n",
    "FROM Cliente\n",
    "WHERE nome LIKE 'Helena'"
   ]
  },
  {
   "cell_type": "markdown",
   "id": "bbc26ee8-b0c7-42ff-a7d8-645ca738b7f0",
   "metadata": {},
   "source": [
    "### Elenca i clienti il cui nome inizia per 'H'"
   ]
  },
  {
   "cell_type": "code",
   "execution_count": null,
   "id": "634a1100-284a-49b1-a136-9a8df0f79e88",
   "metadata": {},
   "outputs": [
    {
     "data": {
      "text/html": [
       "<table><tr><td>ClienteId</td><td>Nome</td><td>Cognome</td><td>Societa</td><td>Indirizzo</td><td>Citta</td><td>Stato</td><td>Nazione</td><td>CodicePostale</td><td>Telefono</td><td>Fax</td><td>Email</td><td>AssistenteId</td></tr><tr><td>6</td><td>Helena</td><td>Holý</td><td>None</td><td>Rilská 3174/6</td><td>Prague</td><td>None</td><td>Czech Republic</td><td>14300</td><td>+420 2 4177 0449</td><td>None</td><td>hholy@gmail.com</td><td>5</td></tr><tr><td>22</td><td>Heather</td><td>Leacock</td><td>None</td><td>120 S Orange Ave</td><td>Orlando</td><td>FL</td><td>USA</td><td>32801</td><td>+1 (407) 999-7788</td><td>None</td><td>hleacock@gmail.com</td><td>4</td></tr><tr><td>36</td><td>Hannah</td><td>Schneider</td><td>None</td><td>Tauentzienstraße 8</td><td>Berlin</td><td>None</td><td>Germany</td><td>10789</td><td>+49 030 26550280</td><td>None</td><td>hannah.schneider@yahoo.de</td><td>5</td></tr><tr><td>46</td><td>Hugh</td><td>O'Reilly</td><td>None</td><td>3 Chatham Street</td><td>Dublin</td><td>Dublin</td><td>Ireland</td><td>None</td><td>+353 01 6792424</td><td>None</td><td>hughoreilly@apple.ie</td><td>3</td></tr></table>"
      ]
     },
     "metadata": {},
     "output_type": "display_data"
    }
   ],
   "source": [
    "SELECT *\n",
    "FROM Cliente\n",
    "WHERE nome LIKE 'H%'"
   ]
  },
  {
   "cell_type": "markdown",
   "id": "fefa166a-2a6d-419d-a89e-79df1e6b320d",
   "metadata": {},
   "source": [
    "### Elenca i clienti il cui cognome contiente almeno una lettera 'x'"
   ]
  },
  {
   "cell_type": "code",
   "execution_count": null,
   "id": "7eaef49b-d56a-48ee-a62c-96c8b2466ddf",
   "metadata": {},
   "outputs": [
    {
     "data": {
      "text/html": [
       "<table><tr><td>ClienteId</td><td>Nome</td><td>Cognome</td><td>Societa</td><td>Indirizzo</td><td>Citta</td><td>Stato</td><td>Nazione</td><td>CodicePostale</td><td>Telefono</td><td>Fax</td><td>Email</td><td>AssistenteId</td></tr><tr><td>11</td><td>Alexandre</td><td>Rocha</td><td>Banco do Brasil S.A.</td><td>Av. Paulista, 2022</td><td>São Paulo</td><td>SP</td><td>Brazil</td><td>01310-200</td><td>+55 (11) 3055-3278</td><td>+55 (11) 3055-8131</td><td>alero@uol.com.br</td><td>5</td></tr></table>"
      ]
     },
     "metadata": {},
     "output_type": "display_data"
    }
   ],
   "source": [
    "SELECT *\n",
    "FROM Cliente\n",
    "WHERE Nome LIKE '%X%'"
   ]
  },
  {
   "cell_type": "markdown",
   "id": "a0ee4912-6276-4441-a65c-0a99a17d6a5e",
   "metadata": {},
   "source": [
    "### Elenca clienti i cui nomi contengono almeno 3 lettere 'a'"
   ]
  },
  {
   "cell_type": "code",
   "execution_count": null,
   "id": "24736bff-d582-4c63-a1fb-a7e58bfcda5e",
   "metadata": {},
   "outputs": [
    {
     "data": {
      "text/html": [
       "<table><tr><td>ClienteId</td><td>Nome</td><td>Cognome</td><td>Societa</td><td>Indirizzo</td><td>Citta</td><td>Stato</td><td>Nazione</td><td>CodicePostale</td><td>Telefono</td><td>Fax</td><td>Email</td><td>AssistenteId</td></tr><tr><td>35</td><td>Madalena</td><td>Sampaio</td><td>None</td><td>Rua dos Campeões Europeus de Viena, 4350</td><td>Porto</td><td>None</td><td>Portugal</td><td>None</td><td>+351 (225) 022-448</td><td>None</td><td>masampaio@sapo.pt</td><td>4</td></tr></table>"
      ]
     },
     "metadata": {},
     "output_type": "display_data"
    }
   ],
   "source": [
    "SELECT *\n",
    "FROM Cliente\n",
    "WHERE Nome LIKE '%a%a%a%'"
   ]
  },
  {
   "cell_type": "markdown",
   "id": "58e89de1-3ad9-423a-a923-a22edc9caa87",
   "metadata": {},
   "source": [
    "### Elenca i clienti il cui nome è lungo esattamente 3 caratteri"
   ]
  },
  {
   "cell_type": "code",
   "execution_count": null,
   "id": "f96613aa-c21f-4fa7-9e0e-7f52b7828989",
   "metadata": {},
   "outputs": [
    {
     "data": {
      "text/html": [
       "<table><tr><td>ClienteId</td><td>Nome</td><td>Cognome</td><td>Societa</td><td>Indirizzo</td><td>Citta</td><td>Stato</td><td>Nazione</td><td>CodicePostale</td><td>Telefono</td><td>Fax</td><td>Email</td><td>AssistenteId</td></tr><tr><td>19</td><td>Tim</td><td>Goyer</td><td>Apple Inc.</td><td>1 Infinite Loop</td><td>Cupertino</td><td>CA</td><td>USA</td><td>95014</td><td>+1 (408) 996-1010</td><td>+1 (408) 996-1011</td><td>tgoyer@apple.com</td><td>3</td></tr><tr><td>20</td><td>Dan</td><td>Miller</td><td>None</td><td>541 Del Medio Avenue</td><td>Mountain View</td><td>CA</td><td>USA</td><td>94040-111</td><td>+1 (650) 644-3358</td><td>None</td><td>dmiller@comcast.com</td><td>4</td></tr></table>"
      ]
     },
     "metadata": {},
     "output_type": "display_data"
    }
   ],
   "source": [
    "SELECT *\n",
    "FROM Cliente\n",
    "WHERE Nome LIKE '___'"
   ]
  },
  {
   "cell_type": "markdown",
   "id": "9087cf97-8ef3-43fe-9c16-d10981080dd3",
   "metadata": {},
   "source": [
    "### Elenca i clienti il cui nome termina in 's'"
   ]
  },
  {
   "cell_type": "code",
   "execution_count": null,
   "id": "81820001-e72d-430c-b9ec-1b0e6c74a015",
   "metadata": {},
   "outputs": [
    {
     "data": {
      "text/html": [
       "<table><tr><td>ClienteId</td><td>Nome</td><td>Cognome</td><td>Societa</td><td>Indirizzo</td><td>Citta</td><td>Stato</td><td>Nazione</td><td>CodicePostale</td><td>Telefono</td><td>Fax</td><td>Email</td><td>AssistenteId</td></tr><tr><td>1</td><td>Luís</td><td>Gonçalves</td><td>Embraer - Empresa Brasileira de Aeronáutica S.A.</td><td>Av. Brigadeiro Faria Lima, 2170</td><td>São José dos Campos</td><td>SP</td><td>Brazil</td><td>12227-000</td><td>+55 (12) 3923-5555</td><td>+55 (12) 3923-5566</td><td>luisg@embraer.com.br</td><td>3</td></tr><tr><td>3</td><td>François</td><td>Tremblay</td><td>None</td><td>1498 rue Bélanger</td><td>Montréal</td><td>QC</td><td>Canada</td><td>H2G 1A7</td><td>+1 (514) 721-4711</td><td>None</td><td>ftremblay@gmail.com</td><td>3</td></tr><tr><td>38</td><td>Niklas</td><td>Schröder</td><td>None</td><td>Barbarossastraße 19</td><td>Berlin</td><td>None</td><td>Germany</td><td>10779</td><td>+49 030 2141444</td><td>None</td><td>nschroder@surfeu.de</td><td>3</td></tr><tr><td>47</td><td>Lucas</td><td>Mancini</td><td>None</td><td>Via Degli Scipioni, 43</td><td>Rome</td><td>RM</td><td>Italy</td><td>00192</td><td>+39 06 39733434</td><td>None</td><td>lucas.mancini@yahoo.it</td><td>5</td></tr><tr><td>48</td><td>Johannes</td><td>Van der Berg</td><td>None</td><td>Lijnbaansgracht 120bg</td><td>Amsterdam</td><td>VV</td><td>Netherlands</td><td>1016</td><td>+31 020 6223130</td><td>None</td><td>johavanderberg@yahoo.nl</td><td>5</td></tr><tr><td>57</td><td>Luis</td><td>Rojas</td><td>None</td><td>Calle Lira, 198</td><td>Santiago</td><td>None</td><td>Chile</td><td>None</td><td>+56 (0)2 635 4444</td><td>None</td><td>luisrojas@yahoo.cl</td><td>5</td></tr></table>"
      ]
     },
     "metadata": {},
     "output_type": "display_data"
    }
   ],
   "source": [
    "SELECT *\n",
    "FROM Cliente\n",
    "WHERE Nome LIKE '%s'"
   ]
  }
 ],
 "metadata": {
  "kernelspec": {
   "display_name": "SQLite Kernel",
   "language": "sql",
   "name": "sqlik"
  },
  "language_info": {
   "file_extension": ".sql",
   "mimetype": "text/plain",
   "name": "sqlik"
  },
  "toc-autonumbering": true,
  "toc-showcode": false,
  "toc-showmarkdowntxt": false
 },
 "nbformat": 4,
 "nbformat_minor": 5
}
