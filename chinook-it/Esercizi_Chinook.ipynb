{
 "cells": [
  {
   "cell_type": "markdown",
   "id": "d3914dc2-d2e8-4b55-8218-a7516b9e21ac",
   "metadata": {},
   "source": [
    "# SQL con Chinook-it"
   ]
  },
  {
   "cell_type": "markdown",
   "id": "cea23e9f-09d2-4aed-93ee-5fe523e8b3ad",
   "metadata": {},
   "source": [
    "## Schema"
   ]
  },
  {
   "cell_type": "markdown",
   "id": "df879fa6-8626-48ab-9f2f-4b4fa99a9df9",
   "metadata": {
    "tags": []
   },
   "source": [
    "### Diagramma delle classi\n",
    "\n",
    "![Class Diagram](./img/chinook-it.svg \"Diagramma delle classi\")"
   ]
  },
  {
   "cell_type": "markdown",
   "id": "5321ea1a-cf49-4025-85d4-70434aed1174",
   "metadata": {},
   "source": [
    "### Diagramma E/R\n",
    "\n",
    "![E/R Diagram](./img/chinook-it-er.svg \"Diagramma E/R\")"
   ]
  },
  {
   "cell_type": "markdown",
   "id": "cb726aac-904c-4b2f-9e7f-e92e4180c2a0",
   "metadata": {},
   "source": [
    "## Connessione al database e impostazione dell'output"
   ]
  },
  {
   "cell_type": "code",
   "execution_count": null,
   "id": "e535b060-cbb3-4491-b389-aa90d939f604",
   "metadata": {},
   "outputs": [
    {
     "name": "stdout",
     "output_type": "stream",
     "text": [
      "CONNECTED\n",
      "Output mode set to html\n"
     ]
    }
   ],
   "source": [
    "--% dbcon:{\"dbfile\" : \"chinook-it.sqlite\"}\n",
    "--% ohtml"
   ]
  },
  {
   "cell_type": "code",
   "execution_count": null,
   "id": "77840320-2315-4212-a56c-5640f4c10b28",
   "metadata": {},
   "outputs": [
    {
     "data": {
      "text/html": [
       "OK"
      ]
     },
     "metadata": {},
     "output_type": "display_data"
    }
   ],
   "source": [
    "--% toc"
   ]
  },
  {
   "cell_type": "markdown",
   "id": "3ef2e4be-5c29-4cb4-a463-df696cbd0ef0",
   "metadata": {},
   "source": [
    "## Query semplici\n",
    "\n",
    "### SELECT, FROM e LIMIT"
   ]
  },
  {
   "cell_type": "markdown",
   "id": "48d12702-f4b4-48b3-9ac1-283f23d00c42",
   "metadata": {},
   "source": [
    "#### Elenca tutte le righe della tabella sui formati multimediali"
   ]
  },
  {
   "cell_type": "code",
   "execution_count": null,
   "id": "2fc2d7b8-f05e-4a77-ad9d-478d0b1d4d74",
   "metadata": {},
   "outputs": [
    {
     "data": {
      "text/html": [
       "<table><tr><td>FormatoMultimedialeId</td><td>Nome</td></tr><tr><td>1</td><td>MPEG audio file</td></tr><tr><td>2</td><td>Protected AAC audio file</td></tr><tr><td>3</td><td>Protected MPEG-4 video file</td></tr><tr><td>4</td><td>Purchased AAC audio file</td></tr><tr><td>5</td><td>AAC audio file</td></tr></table>"
      ]
     },
     "metadata": {},
     "output_type": "display_data"
    }
   ],
   "source": [
    "SELECT *\n",
    "FROM FormatoMultimediale"
   ]
  },
  {
   "cell_type": "markdown",
   "id": "1b5dfec6-0a1a-4513-98b3-5c080ff544c8",
   "metadata": {},
   "source": [
    "#### Elenca il nome dei formati multimediali"
   ]
  },
  {
   "cell_type": "code",
   "execution_count": null,
   "id": "a9c31bdd-41a6-4774-86e2-641c27570e61",
   "metadata": {},
   "outputs": [
    {
     "data": {
      "text/html": [
       "<table><tr><td>Nome</td></tr><tr><td>MPEG audio file</td></tr><tr><td>Protected AAC audio file</td></tr><tr><td>Protected MPEG-4 video file</td></tr><tr><td>Purchased AAC audio file</td></tr><tr><td>AAC audio file</td></tr></table>"
      ]
     },
     "metadata": {},
     "output_type": "display_data"
    }
   ],
   "source": [
    "SELECT Nome\n",
    "FROM FormatoMultimediale"
   ]
  },
  {
   "cell_type": "markdown",
   "id": "03e47113-9bec-49db-90c1-1cb1467a2d17",
   "metadata": {},
   "source": [
    "#### Elenca le prime 10 righe della tabella clienti"
   ]
  },
  {
   "cell_type": "code",
   "execution_count": null,
   "id": "807081fb-e6bd-49f5-8ebb-169c916318fd",
   "metadata": {},
   "outputs": [
    {
     "data": {
      "text/html": [
       "<table><tr><td>ClienteId</td><td>Nome</td><td>Cognome</td><td>Societa</td><td>Indirizzo</td><td>Citta</td><td>Stato</td><td>Nazione</td><td>CodicePostale</td><td>Telefono</td><td>Fax</td><td>Email</td><td>AssistenteId</td></tr><tr><td>1</td><td>Luís</td><td>Gonçalves</td><td>Embraer - Empresa Brasileira de Aeronáutica S.A.</td><td>Av. Brigadeiro Faria Lima, 2170</td><td>São José dos Campos</td><td>SP</td><td>Brazil</td><td>12227-000</td><td>+55 (12) 3923-5555</td><td>+55 (12) 3923-5566</td><td>luisg@embraer.com.br</td><td>3</td></tr><tr><td>2</td><td>Leonie</td><td>Köhler</td><td>None</td><td>Theodor-Heuss-Straße 34</td><td>Stuttgart</td><td>None</td><td>Germany</td><td>70174</td><td>+49 0711 2842222</td><td>None</td><td>leonekohler@surfeu.de</td><td>5</td></tr><tr><td>3</td><td>François</td><td>Tremblay</td><td>None</td><td>1498 rue Bélanger</td><td>Montréal</td><td>QC</td><td>Canada</td><td>H2G 1A7</td><td>+1 (514) 721-4711</td><td>None</td><td>ftremblay@gmail.com</td><td>3</td></tr><tr><td>4</td><td>Bjørn</td><td>Hansen</td><td>None</td><td>Ullevålsveien 14</td><td>Oslo</td><td>None</td><td>Norway</td><td>0171</td><td>+47 22 44 22 22</td><td>None</td><td>bjorn.hansen@yahoo.no</td><td>4</td></tr><tr><td>5</td><td>František</td><td>Wichterlová</td><td>JetBrains s.r.o.</td><td>Klanova 9/506</td><td>Prague</td><td>None</td><td>Czech Republic</td><td>14700</td><td>+420 2 4172 5555</td><td>+420 2 4172 5555</td><td>frantisekw@jetbrains.com</td><td>4</td></tr><tr><td>6</td><td>Helena</td><td>Holý</td><td>None</td><td>Rilská 3174/6</td><td>Prague</td><td>None</td><td>Czech Republic</td><td>14300</td><td>+420 2 4177 0449</td><td>None</td><td>hholy@gmail.com</td><td>5</td></tr><tr><td>7</td><td>Astrid</td><td>Gruber</td><td>None</td><td>Rotenturmstraße 4, 1010 Innere Stadt</td><td>Vienne</td><td>None</td><td>Austria</td><td>1010</td><td>+43 01 5134505</td><td>None</td><td>astrid.gruber@apple.at</td><td>5</td></tr><tr><td>8</td><td>Daan</td><td>Peeters</td><td>None</td><td>Grétrystraat 63</td><td>Brussels</td><td>None</td><td>Belgium</td><td>1000</td><td>+32 02 219 03 03</td><td>None</td><td>daan_peeters@apple.be</td><td>4</td></tr><tr><td>9</td><td>Kara</td><td>Nielsen</td><td>None</td><td>Sønder Boulevard 51</td><td>Copenhagen</td><td>None</td><td>Denmark</td><td>1720</td><td>+453 3331 9991</td><td>None</td><td>kara.nielsen@jubii.dk</td><td>4</td></tr><tr><td>10</td><td>Eduardo</td><td>Martins</td><td>Woodstock Discos</td><td>Rua Dr. Falcão Filho, 155</td><td>São Paulo</td><td>SP</td><td>Brazil</td><td>01007-010</td><td>+55 (11) 3033-5446</td><td>+55 (11) 3033-4564</td><td>eduardo@woodstock.com.br</td><td>4</td></tr></table>"
      ]
     },
     "metadata": {},
     "output_type": "display_data"
    }
   ],
   "source": [
    "SELECT *\n",
    "FROM Cliente\n",
    "LIMIT 10"
   ]
  },
  {
   "cell_type": "markdown",
   "id": "fc573ac7-8519-465c-ada2-a72d92ca53a8",
   "metadata": {},
   "source": [
    "#### Elenca nome e cognome dei primi 10 clienti"
   ]
  },
  {
   "cell_type": "code",
   "execution_count": null,
   "id": "0d54c040-381d-49fa-b7e8-f3619a9172f2",
   "metadata": {},
   "outputs": [
    {
     "data": {
      "text/html": [
       "<table><tr><td>Nome</td><td>Cognome</td></tr><tr><td>Luís</td><td>Gonçalves</td></tr><tr><td>Leonie</td><td>Köhler</td></tr><tr><td>François</td><td>Tremblay</td></tr><tr><td>Bjørn</td><td>Hansen</td></tr><tr><td>František</td><td>Wichterlová</td></tr><tr><td>Helena</td><td>Holý</td></tr><tr><td>Astrid</td><td>Gruber</td></tr><tr><td>Daan</td><td>Peeters</td></tr><tr><td>Kara</td><td>Nielsen</td></tr><tr><td>Eduardo</td><td>Martins</td></tr></table>"
      ]
     },
     "metadata": {},
     "output_type": "display_data"
    }
   ],
   "source": [
    "SELECT Nome, Cognome\n",
    "FROM Cliente\n",
    "LIMIT 10;"
   ]
  },
  {
   "cell_type": "markdown",
   "id": "7959477f-62a7-4988-9371-7f74b496f689",
   "metadata": {},
   "source": [
    "### LIMIT e ORDER BY"
   ]
  },
  {
   "cell_type": "markdown",
   "id": "e867e172-af97-4ef6-ad04-ae57c2710e2b",
   "metadata": {},
   "source": [
    "#### Elenca le 10 fatture più recenti elencando FatturaId, DataFatturazione e Totale"
   ]
  },
  {
   "cell_type": "code",
   "execution_count": null,
   "id": "baa8c800-d7c5-49b9-b1cd-44628bd02d2b",
   "metadata": {},
   "outputs": [
    {
     "data": {
      "text/html": [
       "<table><tr><td>FatturaId</td><td>DataFatturazione</td><td>Totale</td></tr><tr><td>412</td><td>2013-12-22 00:00:00</td><td>1.99</td></tr><tr><td>411</td><td>2013-12-14 00:00:00</td><td>13.86</td></tr><tr><td>410</td><td>2013-12-09 00:00:00</td><td>8.91</td></tr><tr><td>409</td><td>2013-12-06 00:00:00</td><td>5.94</td></tr><tr><td>408</td><td>2013-12-05 00:00:00</td><td>3.96</td></tr><tr><td>406</td><td>2013-12-04 00:00:00</td><td>1.98</td></tr><tr><td>407</td><td>2013-12-04 00:00:00</td><td>1.98</td></tr><tr><td>405</td><td>2013-11-21 00:00:00</td><td>0.99</td></tr><tr><td>404</td><td>2013-11-13 00:00:00</td><td>25.86</td></tr><tr><td>403</td><td>2013-11-08 00:00:00</td><td>8.91</td></tr></table>"
      ]
     },
     "metadata": {},
     "output_type": "display_data"
    }
   ],
   "source": [
    "SELECT FatturaId, DataFatturazione, Totale\n",
    "FROM Fattura\n",
    "ORDER BY DataFatturazione DESC\n",
    "LIMIT 10"
   ]
  },
  {
   "cell_type": "markdown",
   "id": "6319a6c2-77c0-45c7-a91e-94b6bf4d5f30",
   "metadata": {},
   "source": [
    "#### Elenca le 6 fatture con gli importi maggiori indicando FatturaId, DataFatturazione e Totale"
   ]
  },
  {
   "cell_type": "code",
   "execution_count": null,
   "id": "a4c24fa2-dfc1-44fb-a740-045b4250a00b",
   "metadata": {},
   "outputs": [
    {
     "data": {
      "text/html": [
       "<table><tr><td>FatturaId</td><td>DataFatturazione</td><td>Totale</td></tr><tr><td>404</td><td>2013-11-13 00:00:00</td><td>25.86</td></tr><tr><td>299</td><td>2012-08-05 00:00:00</td><td>23.86</td></tr><tr><td>96</td><td>2010-02-18 00:00:00</td><td>21.86</td></tr><tr><td>194</td><td>2011-04-28 00:00:00</td><td>21.86</td></tr><tr><td>89</td><td>2010-01-18 00:00:00</td><td>18.86</td></tr><tr><td>201</td><td>2011-05-29 00:00:00</td><td>18.86</td></tr></table>"
      ]
     },
     "metadata": {},
     "output_type": "display_data"
    }
   ],
   "source": [
    "SELECT FatturaId, DataFatturazione, Totale\n",
    "FROM Fattura\n",
    "ORDER BY Totale DESC\n",
    "LIMIT 6"
   ]
  },
  {
   "cell_type": "markdown",
   "id": "b1094532-3a5e-40ac-8444-79a5c8487af0",
   "metadata": {},
   "source": [
    "#### Elenca FatturaId, DataFatturazione e Totale delle prime 12 fatture ordinate per importo totale, dal più grande al più piccolo, e per data, dalla meno recente alla più recente"
   ]
  },
  {
   "cell_type": "code",
   "execution_count": null,
   "id": "4ce8932f-ba59-49b2-9950-59d7bb9be2f8",
   "metadata": {},
   "outputs": [
    {
     "data": {
      "text/html": [
       "<table><tr><td>FatturaId</td><td>DataFatturazione</td><td>Totale</td></tr><tr><td>404</td><td>2013-11-13 00:00:00</td><td>25.86</td></tr><tr><td>299</td><td>2012-08-05 00:00:00</td><td>23.86</td></tr><tr><td>96</td><td>2010-02-18 00:00:00</td><td>21.86</td></tr><tr><td>194</td><td>2011-04-28 00:00:00</td><td>21.86</td></tr><tr><td>89</td><td>2010-01-18 00:00:00</td><td>18.86</td></tr><tr><td>201</td><td>2011-05-29 00:00:00</td><td>18.86</td></tr><tr><td>88</td><td>2010-01-13 00:00:00</td><td>17.91</td></tr><tr><td>306</td><td>2012-09-05 00:00:00</td><td>16.86</td></tr><tr><td>313</td><td>2012-10-06 00:00:00</td><td>16.86</td></tr><tr><td>103</td><td>2010-03-21 00:00:00</td><td>15.86</td></tr><tr><td>208</td><td>2011-06-29 00:00:00</td><td>15.86</td></tr><tr><td>193</td><td>2011-04-23 00:00:00</td><td>14.91</td></tr></table>"
      ]
     },
     "metadata": {},
     "output_type": "display_data"
    }
   ],
   "source": [
    "SELECT FatturaId, DataFatturazione, Totale\n",
    "FROM Fattura\n",
    "ORDER BY Totale DESC, DataFatturazione\n",
    "LIMIT 12"
   ]
  },
  {
   "cell_type": "markdown",
   "id": "121d8f01-d199-40a8-b8f4-0b4de73ffa74",
   "metadata": {},
   "source": [
    "### WHERE - Operatori relazionali"
   ]
  },
  {
   "cell_type": "markdown",
   "id": "a51a7d32-1515-4c38-9f2e-54168167763d",
   "metadata": {},
   "source": [
    "#### Elenca le righe relative ai clienti la cui nazione di residenza sia 'Italy'"
   ]
  },
  {
   "cell_type": "code",
   "execution_count": null,
   "id": "50ac754f-90c0-41e7-b345-c40009348af2",
   "metadata": {},
   "outputs": [
    {
     "data": {
      "text/html": [
       "<table><tr><td>ClienteId</td><td>Nome</td><td>Cognome</td><td>Societa</td><td>Indirizzo</td><td>Citta</td><td>Stato</td><td>Nazione</td><td>CodicePostale</td><td>Telefono</td><td>Fax</td><td>Email</td><td>AssistenteId</td></tr><tr><td>47</td><td>Lucas</td><td>Mancini</td><td>None</td><td>Via Degli Scipioni, 43</td><td>Rome</td><td>RM</td><td>Italy</td><td>00192</td><td>+39 06 39733434</td><td>None</td><td>lucas.mancini@yahoo.it</td><td>5</td></tr></table>"
      ]
     },
     "metadata": {},
     "output_type": "display_data"
    }
   ],
   "source": [
    "SELECT *\n",
    "FROM Cliente\n",
    "WHERE Nazione = \"Italy\""
   ]
  },
  {
   "cell_type": "markdown",
   "id": "e22c120f-82ce-4c51-9bfa-7871a3a95c00",
   "metadata": {},
   "source": [
    "#### Elenca FatturaId, DataFatturazione e Totale delle fatture con Totale maggiore o uguale a 18"
   ]
  },
  {
   "cell_type": "code",
   "execution_count": null,
   "id": "c7889aa3-7d71-4b39-86e4-31ac6ad000ce",
   "metadata": {},
   "outputs": [
    {
     "data": {
      "text/html": [
       "<table><tr><td>FatturaId</td><td>DataFatturazione</td><td>Totale</td></tr><tr><td>89</td><td>2010-01-18 00:00:00</td><td>18.86</td></tr><tr><td>96</td><td>2010-02-18 00:00:00</td><td>21.86</td></tr><tr><td>194</td><td>2011-04-28 00:00:00</td><td>21.86</td></tr><tr><td>201</td><td>2011-05-29 00:00:00</td><td>18.86</td></tr><tr><td>299</td><td>2012-08-05 00:00:00</td><td>23.86</td></tr><tr><td>404</td><td>2013-11-13 00:00:00</td><td>25.86</td></tr></table>"
      ]
     },
     "metadata": {},
     "output_type": "display_data"
    }
   ],
   "source": [
    "SELECT FatturaId, DataFatturazione, Totale\n",
    "FROM Fattura\n",
    "WHERE Totale >= 18"
   ]
  },
  {
   "cell_type": "markdown",
   "id": "99ea1e3b-49f4-479a-848e-0747ecbb6678",
   "metadata": {},
   "source": [
    "#### Elenca TracciaId, Nome e Millisecondi delle tracce che hanno una durata di almeno 49 minuti"
   ]
  },
  {
   "cell_type": "code",
   "execution_count": null,
   "id": "870b4d1b-17ef-4f49-8104-7b7e364d3437",
   "metadata": {},
   "outputs": [
    {
     "data": {
      "text/html": [
       "<table><tr><td>TracciaId</td><td>Nome</td><td>Millisecondi</td></tr><tr><td>2820</td><td>Occupation / Precipice</td><td>5286953</td></tr><tr><td>3224</td><td>Through a Looking Glass</td><td>5088838</td></tr><tr><td>3226</td><td>Battlestar Galactica, Pt. 1</td><td>2952702</td></tr><tr><td>3227</td><td>Battlestar Galactica, Pt. 2</td><td>2956081</td></tr><tr><td>3242</td><td>The Man With Nine Lives</td><td>2956998</td></tr><tr><td>3244</td><td>Greetings from Earth, Pt. 1</td><td>2960293</td></tr></table>"
      ]
     },
     "metadata": {},
     "output_type": "display_data"
    }
   ],
   "source": [
    "SELECT TracciaId, Nome, Millisecondi\n",
    "FROM Traccia\n",
    "WHERE Millisecondi >= 49 * 60 * 1000"
   ]
  },
  {
   "cell_type": "markdown",
   "id": "4ec0c4ff-3f49-4888-a550-34945da217db",
   "metadata": {},
   "source": [
    "#### Elenca TracciaId, Nome e Byte delle tracce che hanno una dimensione in byte inferiori al milione di byte¶"
   ]
  },
  {
   "cell_type": "code",
   "execution_count": null,
   "id": "5281bf0e-898b-4ebf-8771-7f3e50309c45",
   "metadata": {},
   "outputs": [
    {
     "data": {
      "text/html": [
       "<table><tr><td>TracciaId</td><td>Nome</td><td>Byte</td></tr><tr><td>168</td><td>Now Sports</td><td>161266</td></tr><tr><td>170</td><td>A Statistic</td><td>211997</td></tr><tr><td>172</td><td>The Real Problem</td><td>387360</td></tr><tr><td>178</td><td>Oprah</td><td>224313</td></tr><tr><td>2241</td><td>Bossa</td><td>967098</td></tr><tr><td>2461</td><td>É Uma Partida De Futebol</td><td>38747</td></tr><tr><td>3304</td><td>Commercial 1</td><td>319888</td></tr><tr><td>3310</td><td>Commercial 2</td><td>850698</td></tr></table>"
      ]
     },
     "metadata": {},
     "output_type": "display_data"
    }
   ],
   "source": [
    "SELECT TracciaId, Nome, Byte\n",
    "FROM Traccia\n",
    "WHERE Byte < 1000000"
   ]
  },
  {
   "cell_type": "markdown",
   "id": "852edab7-f067-41a7-9350-896ed3e424de",
   "metadata": {},
   "source": [
    "### WHERE - Operatore LIKE"
   ]
  },
  {
   "cell_type": "markdown",
   "id": "48ed4987-548b-42d7-b3e0-2acd9e210554",
   "metadata": {},
   "source": [
    "#### Elenca i clienti che si chiamano 'Helena'"
   ]
  },
  {
   "cell_type": "code",
   "execution_count": null,
   "id": "23a75a71-cb00-4239-91a5-b08c105fa1a8",
   "metadata": {},
   "outputs": [
    {
     "data": {
      "text/html": [
       "<table><tr><td>ClienteId</td><td>Nome</td><td>Cognome</td><td>Societa</td><td>Indirizzo</td><td>Citta</td><td>Stato</td><td>Nazione</td><td>CodicePostale</td><td>Telefono</td><td>Fax</td><td>Email</td><td>AssistenteId</td></tr><tr><td>6</td><td>Helena</td><td>Holý</td><td>None</td><td>Rilská 3174/6</td><td>Prague</td><td>None</td><td>Czech Republic</td><td>14300</td><td>+420 2 4177 0449</td><td>None</td><td>hholy@gmail.com</td><td>5</td></tr></table>"
      ]
     },
     "metadata": {},
     "output_type": "display_data"
    }
   ],
   "source": [
    "SELECT *\n",
    "FROM Cliente\n",
    "WHERE nome LIKE 'Helena'"
   ]
  },
  {
   "cell_type": "markdown",
   "id": "bbc26ee8-b0c7-42ff-a7d8-645ca738b7f0",
   "metadata": {},
   "source": [
    "#### Elenca i clienti il cui nome inizia per 'H'"
   ]
  },
  {
   "cell_type": "code",
   "execution_count": null,
   "id": "634a1100-284a-49b1-a136-9a8df0f79e88",
   "metadata": {},
   "outputs": [
    {
     "data": {
      "text/html": [
       "<table><tr><td>ClienteId</td><td>Nome</td><td>Cognome</td><td>Societa</td><td>Indirizzo</td><td>Citta</td><td>Stato</td><td>Nazione</td><td>CodicePostale</td><td>Telefono</td><td>Fax</td><td>Email</td><td>AssistenteId</td></tr><tr><td>6</td><td>Helena</td><td>Holý</td><td>None</td><td>Rilská 3174/6</td><td>Prague</td><td>None</td><td>Czech Republic</td><td>14300</td><td>+420 2 4177 0449</td><td>None</td><td>hholy@gmail.com</td><td>5</td></tr><tr><td>22</td><td>Heather</td><td>Leacock</td><td>None</td><td>120 S Orange Ave</td><td>Orlando</td><td>FL</td><td>USA</td><td>32801</td><td>+1 (407) 999-7788</td><td>None</td><td>hleacock@gmail.com</td><td>4</td></tr><tr><td>36</td><td>Hannah</td><td>Schneider</td><td>None</td><td>Tauentzienstraße 8</td><td>Berlin</td><td>None</td><td>Germany</td><td>10789</td><td>+49 030 26550280</td><td>None</td><td>hannah.schneider@yahoo.de</td><td>5</td></tr><tr><td>46</td><td>Hugh</td><td>O'Reilly</td><td>None</td><td>3 Chatham Street</td><td>Dublin</td><td>Dublin</td><td>Ireland</td><td>None</td><td>+353 01 6792424</td><td>None</td><td>hughoreilly@apple.ie</td><td>3</td></tr></table>"
      ]
     },
     "metadata": {},
     "output_type": "display_data"
    }
   ],
   "source": [
    "SELECT *\n",
    "FROM Cliente\n",
    "WHERE nome LIKE 'H%'"
   ]
  },
  {
   "cell_type": "markdown",
   "id": "fefa166a-2a6d-419d-a89e-79df1e6b320d",
   "metadata": {},
   "source": [
    "#### Elenca i clienti il cui cognome contiente almeno una lettera 'x'"
   ]
  },
  {
   "cell_type": "code",
   "execution_count": null,
   "id": "7eaef49b-d56a-48ee-a62c-96c8b2466ddf",
   "metadata": {},
   "outputs": [
    {
     "data": {
      "text/html": [
       "<table><tr><td>ClienteId</td><td>Nome</td><td>Cognome</td><td>Societa</td><td>Indirizzo</td><td>Citta</td><td>Stato</td><td>Nazione</td><td>CodicePostale</td><td>Telefono</td><td>Fax</td><td>Email</td><td>AssistenteId</td></tr><tr><td>11</td><td>Alexandre</td><td>Rocha</td><td>Banco do Brasil S.A.</td><td>Av. Paulista, 2022</td><td>São Paulo</td><td>SP</td><td>Brazil</td><td>01310-200</td><td>+55 (11) 3055-3278</td><td>+55 (11) 3055-8131</td><td>alero@uol.com.br</td><td>5</td></tr></table>"
      ]
     },
     "metadata": {},
     "output_type": "display_data"
    }
   ],
   "source": [
    "SELECT *\n",
    "FROM Cliente\n",
    "WHERE Nome LIKE '%X%'"
   ]
  },
  {
   "cell_type": "markdown",
   "id": "a0ee4912-6276-4441-a65c-0a99a17d6a5e",
   "metadata": {},
   "source": [
    "#### Elenca clienti i cui nomi contengono almeno 3 lettere 'a'"
   ]
  },
  {
   "cell_type": "code",
   "execution_count": null,
   "id": "24736bff-d582-4c63-a1fb-a7e58bfcda5e",
   "metadata": {},
   "outputs": [
    {
     "data": {
      "text/html": [
       "<table><tr><td>ClienteId</td><td>Nome</td><td>Cognome</td><td>Societa</td><td>Indirizzo</td><td>Citta</td><td>Stato</td><td>Nazione</td><td>CodicePostale</td><td>Telefono</td><td>Fax</td><td>Email</td><td>AssistenteId</td></tr><tr><td>35</td><td>Madalena</td><td>Sampaio</td><td>None</td><td>Rua dos Campeões Europeus de Viena, 4350</td><td>Porto</td><td>None</td><td>Portugal</td><td>None</td><td>+351 (225) 022-448</td><td>None</td><td>masampaio@sapo.pt</td><td>4</td></tr></table>"
      ]
     },
     "metadata": {},
     "output_type": "display_data"
    }
   ],
   "source": [
    "SELECT *\n",
    "FROM Cliente\n",
    "WHERE Nome LIKE '%a%a%a%'"
   ]
  },
  {
   "cell_type": "markdown",
   "id": "58e89de1-3ad9-423a-a923-a22edc9caa87",
   "metadata": {},
   "source": [
    "#### Elenca i clienti il cui nome è lungo esattamente 3 caratteri"
   ]
  },
  {
   "cell_type": "code",
   "execution_count": null,
   "id": "f96613aa-c21f-4fa7-9e0e-7f52b7828989",
   "metadata": {},
   "outputs": [
    {
     "data": {
      "text/html": [
       "<table><tr><td>ClienteId</td><td>Nome</td><td>Cognome</td><td>Societa</td><td>Indirizzo</td><td>Citta</td><td>Stato</td><td>Nazione</td><td>CodicePostale</td><td>Telefono</td><td>Fax</td><td>Email</td><td>AssistenteId</td></tr><tr><td>19</td><td>Tim</td><td>Goyer</td><td>Apple Inc.</td><td>1 Infinite Loop</td><td>Cupertino</td><td>CA</td><td>USA</td><td>95014</td><td>+1 (408) 996-1010</td><td>+1 (408) 996-1011</td><td>tgoyer@apple.com</td><td>3</td></tr><tr><td>20</td><td>Dan</td><td>Miller</td><td>None</td><td>541 Del Medio Avenue</td><td>Mountain View</td><td>CA</td><td>USA</td><td>94040-111</td><td>+1 (650) 644-3358</td><td>None</td><td>dmiller@comcast.com</td><td>4</td></tr></table>"
      ]
     },
     "metadata": {},
     "output_type": "display_data"
    }
   ],
   "source": [
    "SELECT *\n",
    "FROM Cliente\n",
    "WHERE Nome LIKE '___'"
   ]
  },
  {
   "cell_type": "markdown",
   "id": "9087cf97-8ef3-43fe-9c16-d10981080dd3",
   "metadata": {},
   "source": [
    "#### Elenca i clienti il cui nome termina in 's'"
   ]
  },
  {
   "cell_type": "code",
   "execution_count": null,
   "id": "81820001-e72d-430c-b9ec-1b0e6c74a015",
   "metadata": {},
   "outputs": [
    {
     "data": {
      "text/html": [
       "<table><tr><td>ClienteId</td><td>Nome</td><td>Cognome</td><td>Societa</td><td>Indirizzo</td><td>Citta</td><td>Stato</td><td>Nazione</td><td>CodicePostale</td><td>Telefono</td><td>Fax</td><td>Email</td><td>AssistenteId</td></tr><tr><td>1</td><td>Luís</td><td>Gonçalves</td><td>Embraer - Empresa Brasileira de Aeronáutica S.A.</td><td>Av. Brigadeiro Faria Lima, 2170</td><td>São José dos Campos</td><td>SP</td><td>Brazil</td><td>12227-000</td><td>+55 (12) 3923-5555</td><td>+55 (12) 3923-5566</td><td>luisg@embraer.com.br</td><td>3</td></tr><tr><td>3</td><td>François</td><td>Tremblay</td><td>None</td><td>1498 rue Bélanger</td><td>Montréal</td><td>QC</td><td>Canada</td><td>H2G 1A7</td><td>+1 (514) 721-4711</td><td>None</td><td>ftremblay@gmail.com</td><td>3</td></tr><tr><td>38</td><td>Niklas</td><td>Schröder</td><td>None</td><td>Barbarossastraße 19</td><td>Berlin</td><td>None</td><td>Germany</td><td>10779</td><td>+49 030 2141444</td><td>None</td><td>nschroder@surfeu.de</td><td>3</td></tr><tr><td>47</td><td>Lucas</td><td>Mancini</td><td>None</td><td>Via Degli Scipioni, 43</td><td>Rome</td><td>RM</td><td>Italy</td><td>00192</td><td>+39 06 39733434</td><td>None</td><td>lucas.mancini@yahoo.it</td><td>5</td></tr><tr><td>48</td><td>Johannes</td><td>Van der Berg</td><td>None</td><td>Lijnbaansgracht 120bg</td><td>Amsterdam</td><td>VV</td><td>Netherlands</td><td>1016</td><td>+31 020 6223130</td><td>None</td><td>johavanderberg@yahoo.nl</td><td>5</td></tr><tr><td>57</td><td>Luis</td><td>Rojas</td><td>None</td><td>Calle Lira, 198</td><td>Santiago</td><td>None</td><td>Chile</td><td>None</td><td>+56 (0)2 635 4444</td><td>None</td><td>luisrojas@yahoo.cl</td><td>5</td></tr></table>"
      ]
     },
     "metadata": {},
     "output_type": "display_data"
    }
   ],
   "source": [
    "SELECT *\n",
    "FROM Cliente\n",
    "WHERE Nome LIKE '%s'"
   ]
  },
  {
   "cell_type": "markdown",
   "id": "fbe903ca-cc57-45e8-b0e2-8abe6157da5e",
   "metadata": {},
   "source": [
    "### Colonne derivate e ridenominazione"
   ]
  },
  {
   "cell_type": "markdown",
   "id": "5796506c-c078-4940-af92-c670e586141d",
   "metadata": {},
   "source": [
    "#### Elenca 10 fatture indicando FatturaId, TotaleIVAEsclusa, IVA e Totale sapendo che il totale delle fatture include l'iva al 22 %"
   ]
  },
  {
   "cell_type": "code",
   "execution_count": null,
   "id": "ff9379c2-e3c8-43cb-85e2-bf860b728c91",
   "metadata": {},
   "outputs": [
    {
     "data": {
      "text/html": [
       "<table><tr><td>FatturaId</td><td>TotaleIVAEsclusa</td><td>IVA</td><td>Totale</td></tr><tr><td>1</td><td>1.5444</td><td>0.4356</td><td>1.98</td></tr><tr><td>2</td><td>3.0888</td><td>0.8712</td><td>3.96</td></tr><tr><td>3</td><td>4.6332</td><td>1.3068000000000002</td><td>5.94</td></tr><tr><td>4</td><td>6.949800000000001</td><td>1.9602</td><td>8.91</td></tr><tr><td>5</td><td>10.8108</td><td>3.0492</td><td>13.86</td></tr><tr><td>6</td><td>0.7722</td><td>0.2178</td><td>0.99</td></tr><tr><td>7</td><td>1.5444</td><td>0.4356</td><td>1.98</td></tr><tr><td>8</td><td>1.5444</td><td>0.4356</td><td>1.98</td></tr><tr><td>9</td><td>3.0888</td><td>0.8712</td><td>3.96</td></tr><tr><td>10</td><td>4.6332</td><td>1.3068000000000002</td><td>5.94</td></tr></table>"
      ]
     },
     "metadata": {},
     "output_type": "display_data"
    }
   ],
   "source": [
    "SELECT\n",
    "    FatturaId,\n",
    "    Totale * (1-0.22) AS TotaleIVAEsclusa,\n",
    "    Totale * 0.22 AS IVA,\n",
    "    Totale\n",
    "FROM Fattura\n",
    "LIMIT 10"
   ]
  },
  {
   "cell_type": "markdown",
   "id": "e517c25c-e79c-4261-a928-20d921e9eebf",
   "metadata": {},
   "source": [
    "#### Elenca TracciaId, Nome, Secondi (Millisecondi / 1000) e Mebibyte (Byte / 1024) di 10 tracce\n"
   ]
  },
  {
   "cell_type": "code",
   "execution_count": null,
   "id": "c73e2386-d90c-4286-9b6f-c8a903ac5706",
   "metadata": {},
   "outputs": [
    {
     "data": {
      "text/html": [
       "<table><tr><td>TracciaId</td><td>Nome</td><td>Secondi</td><td>Mebibyte</td></tr><tr><td>1</td><td>For Those About To Rock (We Salute You)</td><td>343</td><td>10908</td></tr><tr><td>2</td><td>Balls to the Wall</td><td>342</td><td>5381</td></tr><tr><td>3</td><td>Fast As a Shark</td><td>230</td><td>3897</td></tr><tr><td>4</td><td>Restless and Wild</td><td>252</td><td>4230</td></tr><tr><td>5</td><td>Princess of the Dawn</td><td>375</td><td>6143</td></tr><tr><td>6</td><td>Put The Finger On You</td><td>205</td><td>6556</td></tr><tr><td>7</td><td>Let's Get It Up</td><td>233</td><td>7457</td></tr><tr><td>8</td><td>Inject The Venom</td><td>210</td><td>6692</td></tr><tr><td>9</td><td>Snowballed</td><td>203</td><td>6444</td></tr><tr><td>10</td><td>Evil Walks</td><td>263</td><td>8409</td></tr></table>"
      ]
     },
     "metadata": {},
     "output_type": "display_data"
    }
   ],
   "source": [
    "SELECT\n",
    "    TracciaId,\n",
    "    Nome,\n",
    "    Millisecondi / 1000 AS Secondi,\n",
    "    Byte / 1024 AS Mebibyte\n",
    "FROM Traccia\n",
    "LIMIT 10;"
   ]
  },
  {
   "cell_type": "markdown",
   "id": "c22e5d1f-8c55-4f3d-af72-22c6db38f186",
   "metadata": {},
   "source": [
    "### IN, AND, OR, NOT"
   ]
  },
  {
   "cell_type": "markdown",
   "id": "30ab9ffb-5e86-404a-89f6-90ef5463622c",
   "metadata": {},
   "source": [
    "#### Elenca i dipendenti che hanno come titolo 'IT Manager' oppure 'IT Staff'"
   ]
  },
  {
   "cell_type": "code",
   "execution_count": null,
   "id": "6dd6b2f9-2df5-4367-af7d-8138b95961bd",
   "metadata": {},
   "outputs": [
    {
     "data": {
      "text/html": [
       "<table><tr><td>DipendenteId</td><td>Cognome</td><td>Nome</td><td>Titolo</td><td>SuperioreId</td><td>DataNascita</td><td>DataAssunzione</td><td>Indirizzo</td><td>Citta</td><td>Stato</td><td>Nazione</td><td>CodicePostale</td><td>Telefono</td><td>Fax</td><td>Email</td></tr><tr><td>6</td><td>Mitchell</td><td>Michael</td><td>IT Manager</td><td>1</td><td>1973-07-01 00:00:00</td><td>2003-10-17 00:00:00</td><td>5827 Bowness Road NW</td><td>Calgary</td><td>AB</td><td>Canada</td><td>T3B 0C5</td><td>+1 (403) 246-9887</td><td>+1 (403) 246-9899</td><td>michael@chinookcorp.com</td></tr><tr><td>7</td><td>King</td><td>Robert</td><td>IT Staff</td><td>6</td><td>1970-05-29 00:00:00</td><td>2004-01-02 00:00:00</td><td>590 Columbia Boulevard West</td><td>Lethbridge</td><td>AB</td><td>Canada</td><td>T1K 5N8</td><td>+1 (403) 456-9986</td><td>+1 (403) 456-8485</td><td>robert@chinookcorp.com</td></tr><tr><td>8</td><td>Callahan</td><td>Laura</td><td>IT Staff</td><td>6</td><td>1968-01-09 00:00:00</td><td>2004-03-04 00:00:00</td><td>923 7 ST NW</td><td>Lethbridge</td><td>AB</td><td>Canada</td><td>T1H 1Y8</td><td>+1 (403) 467-3351</td><td>+1 (403) 467-8772</td><td>laura@chinookcorp.com</td></tr></table>"
      ]
     },
     "metadata": {},
     "output_type": "display_data"
    }
   ],
   "source": [
    "SELECT *\n",
    "FROM Dipendente\n",
    "WHERE Titolo IN ('IT Manager', 'IT Staff')"
   ]
  },
  {
   "cell_type": "code",
   "execution_count": null,
   "id": "ecf81be3-b219-4f5e-86e7-982ec172752b",
   "metadata": {},
   "outputs": [
    {
     "data": {
      "text/html": [
       "<table><tr><td>DipendenteId</td><td>Cognome</td><td>Nome</td><td>Titolo</td><td>SuperioreId</td><td>DataNascita</td><td>DataAssunzione</td><td>Indirizzo</td><td>Citta</td><td>Stato</td><td>Nazione</td><td>CodicePostale</td><td>Telefono</td><td>Fax</td><td>Email</td></tr><tr><td>6</td><td>Mitchell</td><td>Michael</td><td>IT Manager</td><td>1</td><td>1973-07-01 00:00:00</td><td>2003-10-17 00:00:00</td><td>5827 Bowness Road NW</td><td>Calgary</td><td>AB</td><td>Canada</td><td>T3B 0C5</td><td>+1 (403) 246-9887</td><td>+1 (403) 246-9899</td><td>michael@chinookcorp.com</td></tr><tr><td>7</td><td>King</td><td>Robert</td><td>IT Staff</td><td>6</td><td>1970-05-29 00:00:00</td><td>2004-01-02 00:00:00</td><td>590 Columbia Boulevard West</td><td>Lethbridge</td><td>AB</td><td>Canada</td><td>T1K 5N8</td><td>+1 (403) 456-9986</td><td>+1 (403) 456-8485</td><td>robert@chinookcorp.com</td></tr><tr><td>8</td><td>Callahan</td><td>Laura</td><td>IT Staff</td><td>6</td><td>1968-01-09 00:00:00</td><td>2004-03-04 00:00:00</td><td>923 7 ST NW</td><td>Lethbridge</td><td>AB</td><td>Canada</td><td>T1H 1Y8</td><td>+1 (403) 467-3351</td><td>+1 (403) 467-8772</td><td>laura@chinookcorp.com</td></tr></table>"
      ]
     },
     "metadata": {},
     "output_type": "display_data"
    }
   ],
   "source": [
    "SELECT *\n",
    "FROM Dipendente\n",
    "WHERE \n",
    "    Titolo = 'IT Manager' OR\n",
    "    TitOLO = 'IT Staff'"
   ]
  },
  {
   "cell_type": "markdown",
   "id": "23ab8d79-c8ad-4864-a016-e2903489629b",
   "metadata": {},
   "source": [
    "#### Elenca i dipendenti che non sono manager"
   ]
  },
  {
   "cell_type": "code",
   "execution_count": null,
   "id": "947755f9-68f2-44a8-b337-7dc9b0e46e51",
   "metadata": {},
   "outputs": [
    {
     "data": {
      "text/html": [
       "<table><tr><td>DipendenteId</td><td>Cognome</td><td>Nome</td><td>Titolo</td><td>SuperioreId</td><td>DataNascita</td><td>DataAssunzione</td><td>Indirizzo</td><td>Citta</td><td>Stato</td><td>Nazione</td><td>CodicePostale</td><td>Telefono</td><td>Fax</td><td>Email</td></tr><tr><td>3</td><td>Peacock</td><td>Jane</td><td>Sales Support Agent</td><td>2</td><td>1973-08-29 00:00:00</td><td>2002-04-01 00:00:00</td><td>1111 6 Ave SW</td><td>Calgary</td><td>AB</td><td>Canada</td><td>T2P 5M5</td><td>+1 (403) 262-3443</td><td>+1 (403) 262-6712</td><td>jane@chinookcorp.com</td></tr><tr><td>4</td><td>Park</td><td>Margaret</td><td>Sales Support Agent</td><td>2</td><td>1947-09-19 00:00:00</td><td>2003-05-03 00:00:00</td><td>683 10 Street SW</td><td>Calgary</td><td>AB</td><td>Canada</td><td>T2P 5G3</td><td>+1 (403) 263-4423</td><td>+1 (403) 263-4289</td><td>margaret@chinookcorp.com</td></tr><tr><td>5</td><td>Johnson</td><td>Steve</td><td>Sales Support Agent</td><td>2</td><td>1965-03-03 00:00:00</td><td>2003-10-17 00:00:00</td><td>7727B 41 Ave</td><td>Calgary</td><td>AB</td><td>Canada</td><td>T3B 1Y7</td><td>1 (780) 836-9987</td><td>1 (780) 836-9543</td><td>steve@chinookcorp.com</td></tr><tr><td>7</td><td>King</td><td>Robert</td><td>IT Staff</td><td>6</td><td>1970-05-29 00:00:00</td><td>2004-01-02 00:00:00</td><td>590 Columbia Boulevard West</td><td>Lethbridge</td><td>AB</td><td>Canada</td><td>T1K 5N8</td><td>+1 (403) 456-9986</td><td>+1 (403) 456-8485</td><td>robert@chinookcorp.com</td></tr><tr><td>8</td><td>Callahan</td><td>Laura</td><td>IT Staff</td><td>6</td><td>1968-01-09 00:00:00</td><td>2004-03-04 00:00:00</td><td>923 7 ST NW</td><td>Lethbridge</td><td>AB</td><td>Canada</td><td>T1H 1Y8</td><td>+1 (403) 467-3351</td><td>+1 (403) 467-8772</td><td>laura@chinookcorp.com</td></tr></table>"
      ]
     },
     "metadata": {},
     "output_type": "display_data"
    }
   ],
   "source": [
    "SELECT *\n",
    "FROM Dipendente\n",
    "WHERE \n",
    "    Titolo NOT LIKE '%Manager%'"
   ]
  },
  {
   "cell_type": "markdown",
   "id": "85f7a05f-e3f2-4058-bd2f-151bc9ef072c",
   "metadata": {},
   "source": [
    "#### Elenca gli artisti il cui nome inizia per 'M' e il cui ArtistaId sia maggiore o uguale a 200"
   ]
  },
  {
   "cell_type": "code",
   "execution_count": null,
   "id": "3be5ba85-cd93-4486-a0a0-f87097417db0",
   "metadata": {},
   "outputs": [
    {
     "data": {
      "text/html": [
       "<table><tr><td>ArtistaId</td><td>Nome</td></tr><tr><td>238</td><td>Maurizio Pollini</td></tr><tr><td>245</td><td>Michael Tilson Thomas & San Francisco Symphony</td></tr><tr><td>266</td><td>Martin Roscoe</td></tr><tr><td>269</td><td>Michele Campanella</td></tr><tr><td>271</td><td>Mela Tenenbaum, Pro Musica Prague & Richard Kapp</td></tr></table>"
      ]
     },
     "metadata": {},
     "output_type": "display_data"
    }
   ],
   "source": [
    "SELECT *\n",
    "FROM Artista\n",
    "WHERE Nome LIKE 'M%' AND\n",
    "    ArtistaId >= 200"
   ]
  },
  {
   "cell_type": "markdown",
   "id": "e358fad6-652f-4099-9273-c9ba991076fb",
   "metadata": {},
   "source": [
    "#### Elenca gli artisti il cui ArtistaId sia maggiore o uguale a 250 e minore o ugulale a 260"
   ]
  },
  {
   "cell_type": "code",
   "execution_count": null,
   "id": "52fc69b7-e2cf-45b1-a674-193b749c7378",
   "metadata": {},
   "outputs": [
    {
     "data": {
      "text/html": [
       "<table><tr><td>ArtistaId</td><td>Nome</td></tr><tr><td>250</td><td>Christopher O'Riley</td></tr><tr><td>251</td><td>Fretwork</td></tr><tr><td>252</td><td>Amy Winehouse</td></tr><tr><td>253</td><td>Calexico</td></tr><tr><td>254</td><td>Otto Klemperer & Philharmonia Orchestra</td></tr><tr><td>255</td><td>Yehudi Menuhin</td></tr><tr><td>256</td><td>Philharmonia Orchestra & Sir Neville Marriner</td></tr><tr><td>257</td><td>Academy of St. Martin in the Fields, Sir Neville Marriner & Thurston Dart</td></tr><tr><td>258</td><td>Les Arts Florissants & William Christie</td></tr><tr><td>259</td><td>The 12 Cellists of The Berlin Philharmonic</td></tr><tr><td>260</td><td>Adrian Leaper & Doreen de Feis</td></tr></table>"
      ]
     },
     "metadata": {},
     "output_type": "display_data"
    }
   ],
   "source": [
    "SELECT *\n",
    "FROM Artista\n",
    "WHERE ArtistaId BETWEEN 250 AND 260"
   ]
  },
  {
   "cell_type": "code",
   "execution_count": null,
   "id": "36bf26cb-0aca-4776-a590-e5097af66a16",
   "metadata": {},
   "outputs": [
    {
     "data": {
      "text/html": [
       "<table><tr><td>ArtistaId</td><td>Nome</td></tr><tr><td>250</td><td>Christopher O'Riley</td></tr><tr><td>251</td><td>Fretwork</td></tr><tr><td>252</td><td>Amy Winehouse</td></tr><tr><td>253</td><td>Calexico</td></tr><tr><td>254</td><td>Otto Klemperer & Philharmonia Orchestra</td></tr><tr><td>255</td><td>Yehudi Menuhin</td></tr><tr><td>256</td><td>Philharmonia Orchestra & Sir Neville Marriner</td></tr><tr><td>257</td><td>Academy of St. Martin in the Fields, Sir Neville Marriner & Thurston Dart</td></tr><tr><td>258</td><td>Les Arts Florissants & William Christie</td></tr><tr><td>259</td><td>The 12 Cellists of The Berlin Philharmonic</td></tr><tr><td>260</td><td>Adrian Leaper & Doreen de Feis</td></tr></table>"
      ]
     },
     "metadata": {},
     "output_type": "display_data"
    }
   ],
   "source": [
    "SELECT *\n",
    "FROM Artista\n",
    "WHERE ArtistaId >= 250 AND\n",
    "      ArtistaId <= 260"
   ]
  },
  {
   "cell_type": "markdown",
   "id": "04d4ba69-2bc3-404a-9c9d-c1dc13e3c4ed",
   "metadata": {},
   "source": [
    "## JOIN"
   ]
  },
  {
   "cell_type": "markdown",
   "id": "818b6ea4-5b28-4574-ad04-c77c71cfb3b8",
   "metadata": {},
   "source": [
    "### INNER JOIN, due o tre tabelle"
   ]
  },
  {
   "cell_type": "markdown",
   "id": "8f0ffd9a-ef30-44d7-904e-38fa105d01cc",
   "metadata": {},
   "source": [
    "#### Elenca i primi 10 risultati che si ottengono giungendo le fatture con le linee nel rispetto del vincolo di chiave esterna"
   ]
  },
  {
   "cell_type": "code",
   "execution_count": null,
   "id": "c1289219-0c87-4e95-b0cc-3627ddad4fc5",
   "metadata": {},
   "outputs": [
    {
     "data": {
      "text/html": [
       "<table><tr><td>FatturaId</td><td>ClienteId</td><td>DataFatturazione</td><td>IndirizzoFatturazione</td><td>CittaFatturazione</td><td>StatoFatturazione</td><td>NazioneFatturazione</td><td>CodicePostaleFatturazione</td><td>Totale</td><td>LineaFatturaId</td><td>FatturaId</td><td>TracciaId</td><td>PrezzoUnitario</td><td>Quantita</td></tr><tr><td>1</td><td>2</td><td>2009-01-01 00:00:00</td><td>Theodor-Heuss-Straße 34</td><td>Stuttgart</td><td>None</td><td>Germany</td><td>70174</td><td>1.98</td><td>1</td><td>1</td><td>2</td><td>0.99</td><td>1</td></tr><tr><td>1</td><td>2</td><td>2009-01-01 00:00:00</td><td>Theodor-Heuss-Straße 34</td><td>Stuttgart</td><td>None</td><td>Germany</td><td>70174</td><td>1.98</td><td>2</td><td>1</td><td>4</td><td>0.99</td><td>1</td></tr><tr><td>2</td><td>4</td><td>2009-01-02 00:00:00</td><td>Ullevålsveien 14</td><td>Oslo</td><td>None</td><td>Norway</td><td>0171</td><td>3.96</td><td>3</td><td>2</td><td>6</td><td>0.99</td><td>1</td></tr><tr><td>2</td><td>4</td><td>2009-01-02 00:00:00</td><td>Ullevålsveien 14</td><td>Oslo</td><td>None</td><td>Norway</td><td>0171</td><td>3.96</td><td>4</td><td>2</td><td>8</td><td>0.99</td><td>1</td></tr><tr><td>2</td><td>4</td><td>2009-01-02 00:00:00</td><td>Ullevålsveien 14</td><td>Oslo</td><td>None</td><td>Norway</td><td>0171</td><td>3.96</td><td>5</td><td>2</td><td>10</td><td>0.99</td><td>1</td></tr><tr><td>2</td><td>4</td><td>2009-01-02 00:00:00</td><td>Ullevålsveien 14</td><td>Oslo</td><td>None</td><td>Norway</td><td>0171</td><td>3.96</td><td>6</td><td>2</td><td>12</td><td>0.99</td><td>1</td></tr><tr><td>3</td><td>8</td><td>2009-01-03 00:00:00</td><td>Grétrystraat 63</td><td>Brussels</td><td>None</td><td>Belgium</td><td>1000</td><td>5.94</td><td>7</td><td>3</td><td>16</td><td>0.99</td><td>1</td></tr><tr><td>3</td><td>8</td><td>2009-01-03 00:00:00</td><td>Grétrystraat 63</td><td>Brussels</td><td>None</td><td>Belgium</td><td>1000</td><td>5.94</td><td>8</td><td>3</td><td>20</td><td>0.99</td><td>1</td></tr><tr><td>3</td><td>8</td><td>2009-01-03 00:00:00</td><td>Grétrystraat 63</td><td>Brussels</td><td>None</td><td>Belgium</td><td>1000</td><td>5.94</td><td>9</td><td>3</td><td>24</td><td>0.99</td><td>1</td></tr><tr><td>3</td><td>8</td><td>2009-01-03 00:00:00</td><td>Grétrystraat 63</td><td>Brussels</td><td>None</td><td>Belgium</td><td>1000</td><td>5.94</td><td>10</td><td>3</td><td>28</td><td>0.99</td><td>1</td></tr></table>"
      ]
     },
     "metadata": {},
     "output_type": "display_data"
    }
   ],
   "source": [
    "SELECT *\n",
    "FROM Fattura\n",
    "    INNER JOIN LineaFattura\n",
    "        ON Fattura.FatturaId = LineaFattura.FatturaId\n",
    "LIMIT 10"
   ]
  },
  {
   "cell_type": "code",
   "execution_count": null,
   "id": "3a3ad50f-42d9-4bd2-b73b-f57286e78d5e",
   "metadata": {},
   "outputs": [
    {
     "data": {
      "text/html": [
       "near \"SELECT\": syntax error"
      ]
     },
     "metadata": {},
     "output_type": "display_data"
    }
   ],
   "source": [
    "SELECT *\n",
    "FROM Fattura\n",
    "    INNER JOIN LineaFattura\n",
    "        USING(SELECT *\n",
    "FROM Fattura\n",
    "    INNER JOIN LineaFattura\n",
    "        ON Fattura.FatturaId = LineaFattura.FatturaId\n",
    "LIMIT 10FatturaId)\n",
    "LIMIT 10"
   ]
  },
  {
   "cell_type": "code",
   "execution_count": null,
   "id": "1367e8e1-f911-4458-8fc5-94088c3b903d",
   "metadata": {},
   "outputs": [
    {
     "data": {
      "text/html": [
       "<table><tr><td>FatturaId</td><td>ClienteId</td><td>DataFatturazione</td><td>IndirizzoFatturazione</td><td>CittaFatturazione</td><td>StatoFatturazione</td><td>NazioneFatturazione</td><td>CodicePostaleFatturazione</td><td>Totale</td><td>LineaFatturaId</td><td>TracciaId</td><td>PrezzoUnitario</td><td>Quantita</td></tr><tr><td>1</td><td>2</td><td>2009-01-01 00:00:00</td><td>Theodor-Heuss-Straße 34</td><td>Stuttgart</td><td>None</td><td>Germany</td><td>70174</td><td>1.98</td><td>1</td><td>2</td><td>0.99</td><td>1</td></tr><tr><td>1</td><td>2</td><td>2009-01-01 00:00:00</td><td>Theodor-Heuss-Straße 34</td><td>Stuttgart</td><td>None</td><td>Germany</td><td>70174</td><td>1.98</td><td>2</td><td>4</td><td>0.99</td><td>1</td></tr><tr><td>2</td><td>4</td><td>2009-01-02 00:00:00</td><td>Ullevålsveien 14</td><td>Oslo</td><td>None</td><td>Norway</td><td>0171</td><td>3.96</td><td>3</td><td>6</td><td>0.99</td><td>1</td></tr><tr><td>2</td><td>4</td><td>2009-01-02 00:00:00</td><td>Ullevålsveien 14</td><td>Oslo</td><td>None</td><td>Norway</td><td>0171</td><td>3.96</td><td>4</td><td>8</td><td>0.99</td><td>1</td></tr><tr><td>2</td><td>4</td><td>2009-01-02 00:00:00</td><td>Ullevålsveien 14</td><td>Oslo</td><td>None</td><td>Norway</td><td>0171</td><td>3.96</td><td>5</td><td>10</td><td>0.99</td><td>1</td></tr><tr><td>2</td><td>4</td><td>2009-01-02 00:00:00</td><td>Ullevålsveien 14</td><td>Oslo</td><td>None</td><td>Norway</td><td>0171</td><td>3.96</td><td>6</td><td>12</td><td>0.99</td><td>1</td></tr><tr><td>3</td><td>8</td><td>2009-01-03 00:00:00</td><td>Grétrystraat 63</td><td>Brussels</td><td>None</td><td>Belgium</td><td>1000</td><td>5.94</td><td>7</td><td>16</td><td>0.99</td><td>1</td></tr><tr><td>3</td><td>8</td><td>2009-01-03 00:00:00</td><td>Grétrystraat 63</td><td>Brussels</td><td>None</td><td>Belgium</td><td>1000</td><td>5.94</td><td>8</td><td>20</td><td>0.99</td><td>1</td></tr><tr><td>3</td><td>8</td><td>2009-01-03 00:00:00</td><td>Grétrystraat 63</td><td>Brussels</td><td>None</td><td>Belgium</td><td>1000</td><td>5.94</td><td>9</td><td>24</td><td>0.99</td><td>1</td></tr><tr><td>3</td><td>8</td><td>2009-01-03 00:00:00</td><td>Grétrystraat 63</td><td>Brussels</td><td>None</td><td>Belgium</td><td>1000</td><td>5.94</td><td>10</td><td>28</td><td>0.99</td><td>1</td></tr></table>"
      ]
     },
     "metadata": {},
     "output_type": "display_data"
    }
   ],
   "source": [
    "SELECT *\n",
    "FROM Fattura\n",
    "    NATURAL JOIN LineaFattura\n",
    "LIMIT 10"
   ]
  },
  {
   "cell_type": "code",
   "execution_count": null,
   "id": "674134a1-b656-4686-badb-78cffb124f6c",
   "metadata": {},
   "outputs": [
    {
     "data": {
      "text/html": [
       "<table><tr><td>FatturaId</td><td>ClienteId</td><td>DataFatturazione</td><td>IndirizzoFatturazione</td><td>CittaFatturazione</td><td>StatoFatturazione</td><td>NazioneFatturazione</td><td>CodicePostaleFatturazione</td><td>Totale</td><td>LineaFatturaId</td><td>FatturaId</td><td>TracciaId</td><td>PrezzoUnitario</td><td>Quantita</td></tr><tr><td>1</td><td>2</td><td>2009-01-01 00:00:00</td><td>Theodor-Heuss-Straße 34</td><td>Stuttgart</td><td>None</td><td>Germany</td><td>70174</td><td>1.98</td><td>1</td><td>1</td><td>2</td><td>0.99</td><td>1</td></tr><tr><td>1</td><td>2</td><td>2009-01-01 00:00:00</td><td>Theodor-Heuss-Straße 34</td><td>Stuttgart</td><td>None</td><td>Germany</td><td>70174</td><td>1.98</td><td>2</td><td>1</td><td>4</td><td>0.99</td><td>1</td></tr><tr><td>2</td><td>4</td><td>2009-01-02 00:00:00</td><td>Ullevålsveien 14</td><td>Oslo</td><td>None</td><td>Norway</td><td>0171</td><td>3.96</td><td>3</td><td>2</td><td>6</td><td>0.99</td><td>1</td></tr><tr><td>2</td><td>4</td><td>2009-01-02 00:00:00</td><td>Ullevålsveien 14</td><td>Oslo</td><td>None</td><td>Norway</td><td>0171</td><td>3.96</td><td>4</td><td>2</td><td>8</td><td>0.99</td><td>1</td></tr><tr><td>2</td><td>4</td><td>2009-01-02 00:00:00</td><td>Ullevålsveien 14</td><td>Oslo</td><td>None</td><td>Norway</td><td>0171</td><td>3.96</td><td>5</td><td>2</td><td>10</td><td>0.99</td><td>1</td></tr><tr><td>2</td><td>4</td><td>2009-01-02 00:00:00</td><td>Ullevålsveien 14</td><td>Oslo</td><td>None</td><td>Norway</td><td>0171</td><td>3.96</td><td>6</td><td>2</td><td>12</td><td>0.99</td><td>1</td></tr><tr><td>3</td><td>8</td><td>2009-01-03 00:00:00</td><td>Grétrystraat 63</td><td>Brussels</td><td>None</td><td>Belgium</td><td>1000</td><td>5.94</td><td>7</td><td>3</td><td>16</td><td>0.99</td><td>1</td></tr><tr><td>3</td><td>8</td><td>2009-01-03 00:00:00</td><td>Grétrystraat 63</td><td>Brussels</td><td>None</td><td>Belgium</td><td>1000</td><td>5.94</td><td>8</td><td>3</td><td>20</td><td>0.99</td><td>1</td></tr><tr><td>3</td><td>8</td><td>2009-01-03 00:00:00</td><td>Grétrystraat 63</td><td>Brussels</td><td>None</td><td>Belgium</td><td>1000</td><td>5.94</td><td>9</td><td>3</td><td>24</td><td>0.99</td><td>1</td></tr><tr><td>3</td><td>8</td><td>2009-01-03 00:00:00</td><td>Grétrystraat 63</td><td>Brussels</td><td>None</td><td>Belgium</td><td>1000</td><td>5.94</td><td>10</td><td>3</td><td>28</td><td>0.99</td><td>1</td></tr></table>"
      ]
     },
     "metadata": {},
     "output_type": "display_data"
    }
   ],
   "source": [
    "SELECT *\n",
    "FROM Fattura, LineaFattura\n",
    "WHERE Fattura.FatturaId = LineaFattura.FatturaId\n",
    "LIMIT 10"
   ]
  },
  {
   "cell_type": "markdown",
   "id": "59522d96-4984-4c7b-b432-72e67cff343d",
   "metadata": {},
   "source": [
    "#### Elenca i primi 10 risultati che si ottengono giungendo i clienti con le fatture con le linee delle fatture nel rispetto del vincolo di chiave esterna"
   ]
  },
  {
   "cell_type": "code",
   "execution_count": null,
   "id": "37ed5a8e-537d-4e09-a29a-c8a512e36405",
   "metadata": {},
   "outputs": [
    {
     "data": {
      "text/html": [
       "<table><tr><td>ClienteId</td><td>Nome</td><td>Cognome</td><td>Societa</td><td>Indirizzo</td><td>Citta</td><td>Stato</td><td>Nazione</td><td>CodicePostale</td><td>Telefono</td><td>Fax</td><td>Email</td><td>AssistenteId</td><td>FatturaId</td><td>ClienteId</td><td>DataFatturazione</td><td>IndirizzoFatturazione</td><td>CittaFatturazione</td><td>StatoFatturazione</td><td>NazioneFatturazione</td><td>CodicePostaleFatturazione</td><td>Totale</td><td>LineaFatturaId</td><td>FatturaId</td><td>TracciaId</td><td>PrezzoUnitario</td><td>Quantita</td></tr><tr><td>1</td><td>Luís</td><td>Gonçalves</td><td>Embraer - Empresa Brasileira de Aeronáutica S.A.</td><td>Av. Brigadeiro Faria Lima, 2170</td><td>São José dos Campos</td><td>SP</td><td>Brazil</td><td>12227-000</td><td>+55 (12) 3923-5555</td><td>+55 (12) 3923-5566</td><td>luisg@embraer.com.br</td><td>3</td><td>1</td><td>2</td><td>2009-01-01 00:00:00</td><td>Theodor-Heuss-Straße 34</td><td>Stuttgart</td><td>None</td><td>Germany</td><td>70174</td><td>1.98</td><td>1</td><td>1</td><td>2</td><td>0.99</td><td>1</td></tr><tr><td>1</td><td>Luís</td><td>Gonçalves</td><td>Embraer - Empresa Brasileira de Aeronáutica S.A.</td><td>Av. Brigadeiro Faria Lima, 2170</td><td>São José dos Campos</td><td>SP</td><td>Brazil</td><td>12227-000</td><td>+55 (12) 3923-5555</td><td>+55 (12) 3923-5566</td><td>luisg@embraer.com.br</td><td>3</td><td>1</td><td>2</td><td>2009-01-01 00:00:00</td><td>Theodor-Heuss-Straße 34</td><td>Stuttgart</td><td>None</td><td>Germany</td><td>70174</td><td>1.98</td><td>2</td><td>1</td><td>4</td><td>0.99</td><td>1</td></tr><tr><td>2</td><td>Leonie</td><td>Köhler</td><td>None</td><td>Theodor-Heuss-Straße 34</td><td>Stuttgart</td><td>None</td><td>Germany</td><td>70174</td><td>+49 0711 2842222</td><td>None</td><td>leonekohler@surfeu.de</td><td>5</td><td>2</td><td>4</td><td>2009-01-02 00:00:00</td><td>Ullevålsveien 14</td><td>Oslo</td><td>None</td><td>Norway</td><td>0171</td><td>3.96</td><td>3</td><td>2</td><td>6</td><td>0.99</td><td>1</td></tr><tr><td>2</td><td>Leonie</td><td>Köhler</td><td>None</td><td>Theodor-Heuss-Straße 34</td><td>Stuttgart</td><td>None</td><td>Germany</td><td>70174</td><td>+49 0711 2842222</td><td>None</td><td>leonekohler@surfeu.de</td><td>5</td><td>2</td><td>4</td><td>2009-01-02 00:00:00</td><td>Ullevålsveien 14</td><td>Oslo</td><td>None</td><td>Norway</td><td>0171</td><td>3.96</td><td>4</td><td>2</td><td>8</td><td>0.99</td><td>1</td></tr><tr><td>2</td><td>Leonie</td><td>Köhler</td><td>None</td><td>Theodor-Heuss-Straße 34</td><td>Stuttgart</td><td>None</td><td>Germany</td><td>70174</td><td>+49 0711 2842222</td><td>None</td><td>leonekohler@surfeu.de</td><td>5</td><td>2</td><td>4</td><td>2009-01-02 00:00:00</td><td>Ullevålsveien 14</td><td>Oslo</td><td>None</td><td>Norway</td><td>0171</td><td>3.96</td><td>5</td><td>2</td><td>10</td><td>0.99</td><td>1</td></tr><tr><td>2</td><td>Leonie</td><td>Köhler</td><td>None</td><td>Theodor-Heuss-Straße 34</td><td>Stuttgart</td><td>None</td><td>Germany</td><td>70174</td><td>+49 0711 2842222</td><td>None</td><td>leonekohler@surfeu.de</td><td>5</td><td>2</td><td>4</td><td>2009-01-02 00:00:00</td><td>Ullevålsveien 14</td><td>Oslo</td><td>None</td><td>Norway</td><td>0171</td><td>3.96</td><td>6</td><td>2</td><td>12</td><td>0.99</td><td>1</td></tr><tr><td>3</td><td>François</td><td>Tremblay</td><td>None</td><td>1498 rue Bélanger</td><td>Montréal</td><td>QC</td><td>Canada</td><td>H2G 1A7</td><td>+1 (514) 721-4711</td><td>None</td><td>ftremblay@gmail.com</td><td>3</td><td>3</td><td>8</td><td>2009-01-03 00:00:00</td><td>Grétrystraat 63</td><td>Brussels</td><td>None</td><td>Belgium</td><td>1000</td><td>5.94</td><td>7</td><td>3</td><td>16</td><td>0.99</td><td>1</td></tr><tr><td>3</td><td>François</td><td>Tremblay</td><td>None</td><td>1498 rue Bélanger</td><td>Montréal</td><td>QC</td><td>Canada</td><td>H2G 1A7</td><td>+1 (514) 721-4711</td><td>None</td><td>ftremblay@gmail.com</td><td>3</td><td>3</td><td>8</td><td>2009-01-03 00:00:00</td><td>Grétrystraat 63</td><td>Brussels</td><td>None</td><td>Belgium</td><td>1000</td><td>5.94</td><td>8</td><td>3</td><td>20</td><td>0.99</td><td>1</td></tr><tr><td>3</td><td>François</td><td>Tremblay</td><td>None</td><td>1498 rue Bélanger</td><td>Montréal</td><td>QC</td><td>Canada</td><td>H2G 1A7</td><td>+1 (514) 721-4711</td><td>None</td><td>ftremblay@gmail.com</td><td>3</td><td>3</td><td>8</td><td>2009-01-03 00:00:00</td><td>Grétrystraat 63</td><td>Brussels</td><td>None</td><td>Belgium</td><td>1000</td><td>5.94</td><td>9</td><td>3</td><td>24</td><td>0.99</td><td>1</td></tr><tr><td>3</td><td>François</td><td>Tremblay</td><td>None</td><td>1498 rue Bélanger</td><td>Montréal</td><td>QC</td><td>Canada</td><td>H2G 1A7</td><td>+1 (514) 721-4711</td><td>None</td><td>ftremblay@gmail.com</td><td>3</td><td>3</td><td>8</td><td>2009-01-03 00:00:00</td><td>Grétrystraat 63</td><td>Brussels</td><td>None</td><td>Belgium</td><td>1000</td><td>5.94</td><td>10</td><td>3</td><td>28</td><td>0.99</td><td>1</td></tr></table>"
      ]
     },
     "metadata": {},
     "output_type": "display_data"
    }
   ],
   "source": [
    "SELECT *\n",
    "FROM Cliente\n",
    "    INNER JOIN Fattura\n",
    "        ON Cliente.ClienteId = Fattura.FatturaId\n",
    "    INNER JOIN LineaFattura\n",
    "        ON Fattura.FatturaId = LineaFattura.FatturaId\n",
    "LIMIT 10"
   ]
  },
  {
   "cell_type": "code",
   "execution_count": null,
   "id": "6e0a9f4d-e81a-4f51-937e-0da971fae550",
   "metadata": {},
   "outputs": [
    {
     "data": {
      "text/html": [
       "<table><tr><td>ClienteId</td><td>Nome</td><td>Cognome</td><td>Societa</td><td>Indirizzo</td><td>Citta</td><td>Stato</td><td>Nazione</td><td>CodicePostale</td><td>Telefono</td><td>Fax</td><td>Email</td><td>AssistenteId</td><td>FatturaId</td><td>DataFatturazione</td><td>IndirizzoFatturazione</td><td>CittaFatturazione</td><td>StatoFatturazione</td><td>NazioneFatturazione</td><td>CodicePostaleFatturazione</td><td>Totale</td><td>LineaFatturaId</td><td>TracciaId</td><td>PrezzoUnitario</td><td>Quantita</td></tr><tr><td>2</td><td>Leonie</td><td>Köhler</td><td>None</td><td>Theodor-Heuss-Straße 34</td><td>Stuttgart</td><td>None</td><td>Germany</td><td>70174</td><td>+49 0711 2842222</td><td>None</td><td>leonekohler@surfeu.de</td><td>5</td><td>1</td><td>2009-01-01 00:00:00</td><td>Theodor-Heuss-Straße 34</td><td>Stuttgart</td><td>None</td><td>Germany</td><td>70174</td><td>1.98</td><td>1</td><td>2</td><td>0.99</td><td>1</td></tr><tr><td>2</td><td>Leonie</td><td>Köhler</td><td>None</td><td>Theodor-Heuss-Straße 34</td><td>Stuttgart</td><td>None</td><td>Germany</td><td>70174</td><td>+49 0711 2842222</td><td>None</td><td>leonekohler@surfeu.de</td><td>5</td><td>1</td><td>2009-01-01 00:00:00</td><td>Theodor-Heuss-Straße 34</td><td>Stuttgart</td><td>None</td><td>Germany</td><td>70174</td><td>1.98</td><td>2</td><td>4</td><td>0.99</td><td>1</td></tr><tr><td>4</td><td>Bjørn</td><td>Hansen</td><td>None</td><td>Ullevålsveien 14</td><td>Oslo</td><td>None</td><td>Norway</td><td>0171</td><td>+47 22 44 22 22</td><td>None</td><td>bjorn.hansen@yahoo.no</td><td>4</td><td>2</td><td>2009-01-02 00:00:00</td><td>Ullevålsveien 14</td><td>Oslo</td><td>None</td><td>Norway</td><td>0171</td><td>3.96</td><td>3</td><td>6</td><td>0.99</td><td>1</td></tr><tr><td>4</td><td>Bjørn</td><td>Hansen</td><td>None</td><td>Ullevålsveien 14</td><td>Oslo</td><td>None</td><td>Norway</td><td>0171</td><td>+47 22 44 22 22</td><td>None</td><td>bjorn.hansen@yahoo.no</td><td>4</td><td>2</td><td>2009-01-02 00:00:00</td><td>Ullevålsveien 14</td><td>Oslo</td><td>None</td><td>Norway</td><td>0171</td><td>3.96</td><td>4</td><td>8</td><td>0.99</td><td>1</td></tr><tr><td>4</td><td>Bjørn</td><td>Hansen</td><td>None</td><td>Ullevålsveien 14</td><td>Oslo</td><td>None</td><td>Norway</td><td>0171</td><td>+47 22 44 22 22</td><td>None</td><td>bjorn.hansen@yahoo.no</td><td>4</td><td>2</td><td>2009-01-02 00:00:00</td><td>Ullevålsveien 14</td><td>Oslo</td><td>None</td><td>Norway</td><td>0171</td><td>3.96</td><td>5</td><td>10</td><td>0.99</td><td>1</td></tr><tr><td>4</td><td>Bjørn</td><td>Hansen</td><td>None</td><td>Ullevålsveien 14</td><td>Oslo</td><td>None</td><td>Norway</td><td>0171</td><td>+47 22 44 22 22</td><td>None</td><td>bjorn.hansen@yahoo.no</td><td>4</td><td>2</td><td>2009-01-02 00:00:00</td><td>Ullevålsveien 14</td><td>Oslo</td><td>None</td><td>Norway</td><td>0171</td><td>3.96</td><td>6</td><td>12</td><td>0.99</td><td>1</td></tr><tr><td>8</td><td>Daan</td><td>Peeters</td><td>None</td><td>Grétrystraat 63</td><td>Brussels</td><td>None</td><td>Belgium</td><td>1000</td><td>+32 02 219 03 03</td><td>None</td><td>daan_peeters@apple.be</td><td>4</td><td>3</td><td>2009-01-03 00:00:00</td><td>Grétrystraat 63</td><td>Brussels</td><td>None</td><td>Belgium</td><td>1000</td><td>5.94</td><td>7</td><td>16</td><td>0.99</td><td>1</td></tr><tr><td>8</td><td>Daan</td><td>Peeters</td><td>None</td><td>Grétrystraat 63</td><td>Brussels</td><td>None</td><td>Belgium</td><td>1000</td><td>+32 02 219 03 03</td><td>None</td><td>daan_peeters@apple.be</td><td>4</td><td>3</td><td>2009-01-03 00:00:00</td><td>Grétrystraat 63</td><td>Brussels</td><td>None</td><td>Belgium</td><td>1000</td><td>5.94</td><td>8</td><td>20</td><td>0.99</td><td>1</td></tr><tr><td>8</td><td>Daan</td><td>Peeters</td><td>None</td><td>Grétrystraat 63</td><td>Brussels</td><td>None</td><td>Belgium</td><td>1000</td><td>+32 02 219 03 03</td><td>None</td><td>daan_peeters@apple.be</td><td>4</td><td>3</td><td>2009-01-03 00:00:00</td><td>Grétrystraat 63</td><td>Brussels</td><td>None</td><td>Belgium</td><td>1000</td><td>5.94</td><td>9</td><td>24</td><td>0.99</td><td>1</td></tr><tr><td>8</td><td>Daan</td><td>Peeters</td><td>None</td><td>Grétrystraat 63</td><td>Brussels</td><td>None</td><td>Belgium</td><td>1000</td><td>+32 02 219 03 03</td><td>None</td><td>daan_peeters@apple.be</td><td>4</td><td>3</td><td>2009-01-03 00:00:00</td><td>Grétrystraat 63</td><td>Brussels</td><td>None</td><td>Belgium</td><td>1000</td><td>5.94</td><td>10</td><td>28</td><td>0.99</td><td>1</td></tr></table>"
      ]
     },
     "metadata": {},
     "output_type": "display_data"
    }
   ],
   "source": [
    "SELECT *\n",
    "FROM Cliente\n",
    "    INNER JOIN Fattura\n",
    "        USING (ClienteId)\n",
    "    INNER JOIN LineaFattura\n",
    "        USING (FatturaId)\n",
    "LIMIT 10"
   ]
  },
  {
   "cell_type": "markdown",
   "id": "53e9155f-cceb-4a36-ae97-dae517a41585",
   "metadata": {},
   "source": []
  },
  {
   "cell_type": "code",
   "execution_count": null,
   "id": "6eaaf98a-77ac-40af-ad76-0fcb63523cfa",
   "metadata": {},
   "outputs": [
    {
     "data": {
      "text/html": [
       "<table><tr><td>ClienteId</td><td>Nome</td><td>Cognome</td><td>Societa</td><td>Indirizzo</td><td>Citta</td><td>Stato</td><td>Nazione</td><td>CodicePostale</td><td>Telefono</td><td>Fax</td><td>Email</td><td>AssistenteId</td><td>FatturaId</td><td>DataFatturazione</td><td>IndirizzoFatturazione</td><td>CittaFatturazione</td><td>StatoFatturazione</td><td>NazioneFatturazione</td><td>CodicePostaleFatturazione</td><td>Totale</td><td>LineaFatturaId</td><td>TracciaId</td><td>PrezzoUnitario</td><td>Quantita</td></tr><tr><td>2</td><td>Leonie</td><td>Köhler</td><td>None</td><td>Theodor-Heuss-Straße 34</td><td>Stuttgart</td><td>None</td><td>Germany</td><td>70174</td><td>+49 0711 2842222</td><td>None</td><td>leonekohler@surfeu.de</td><td>5</td><td>1</td><td>2009-01-01 00:00:00</td><td>Theodor-Heuss-Straße 34</td><td>Stuttgart</td><td>None</td><td>Germany</td><td>70174</td><td>1.98</td><td>1</td><td>2</td><td>0.99</td><td>1</td></tr><tr><td>2</td><td>Leonie</td><td>Köhler</td><td>None</td><td>Theodor-Heuss-Straße 34</td><td>Stuttgart</td><td>None</td><td>Germany</td><td>70174</td><td>+49 0711 2842222</td><td>None</td><td>leonekohler@surfeu.de</td><td>5</td><td>1</td><td>2009-01-01 00:00:00</td><td>Theodor-Heuss-Straße 34</td><td>Stuttgart</td><td>None</td><td>Germany</td><td>70174</td><td>1.98</td><td>2</td><td>4</td><td>0.99</td><td>1</td></tr><tr><td>4</td><td>Bjørn</td><td>Hansen</td><td>None</td><td>Ullevålsveien 14</td><td>Oslo</td><td>None</td><td>Norway</td><td>0171</td><td>+47 22 44 22 22</td><td>None</td><td>bjorn.hansen@yahoo.no</td><td>4</td><td>2</td><td>2009-01-02 00:00:00</td><td>Ullevålsveien 14</td><td>Oslo</td><td>None</td><td>Norway</td><td>0171</td><td>3.96</td><td>3</td><td>6</td><td>0.99</td><td>1</td></tr><tr><td>4</td><td>Bjørn</td><td>Hansen</td><td>None</td><td>Ullevålsveien 14</td><td>Oslo</td><td>None</td><td>Norway</td><td>0171</td><td>+47 22 44 22 22</td><td>None</td><td>bjorn.hansen@yahoo.no</td><td>4</td><td>2</td><td>2009-01-02 00:00:00</td><td>Ullevålsveien 14</td><td>Oslo</td><td>None</td><td>Norway</td><td>0171</td><td>3.96</td><td>4</td><td>8</td><td>0.99</td><td>1</td></tr><tr><td>4</td><td>Bjørn</td><td>Hansen</td><td>None</td><td>Ullevålsveien 14</td><td>Oslo</td><td>None</td><td>Norway</td><td>0171</td><td>+47 22 44 22 22</td><td>None</td><td>bjorn.hansen@yahoo.no</td><td>4</td><td>2</td><td>2009-01-02 00:00:00</td><td>Ullevålsveien 14</td><td>Oslo</td><td>None</td><td>Norway</td><td>0171</td><td>3.96</td><td>5</td><td>10</td><td>0.99</td><td>1</td></tr><tr><td>4</td><td>Bjørn</td><td>Hansen</td><td>None</td><td>Ullevålsveien 14</td><td>Oslo</td><td>None</td><td>Norway</td><td>0171</td><td>+47 22 44 22 22</td><td>None</td><td>bjorn.hansen@yahoo.no</td><td>4</td><td>2</td><td>2009-01-02 00:00:00</td><td>Ullevålsveien 14</td><td>Oslo</td><td>None</td><td>Norway</td><td>0171</td><td>3.96</td><td>6</td><td>12</td><td>0.99</td><td>1</td></tr><tr><td>8</td><td>Daan</td><td>Peeters</td><td>None</td><td>Grétrystraat 63</td><td>Brussels</td><td>None</td><td>Belgium</td><td>1000</td><td>+32 02 219 03 03</td><td>None</td><td>daan_peeters@apple.be</td><td>4</td><td>3</td><td>2009-01-03 00:00:00</td><td>Grétrystraat 63</td><td>Brussels</td><td>None</td><td>Belgium</td><td>1000</td><td>5.94</td><td>7</td><td>16</td><td>0.99</td><td>1</td></tr><tr><td>8</td><td>Daan</td><td>Peeters</td><td>None</td><td>Grétrystraat 63</td><td>Brussels</td><td>None</td><td>Belgium</td><td>1000</td><td>+32 02 219 03 03</td><td>None</td><td>daan_peeters@apple.be</td><td>4</td><td>3</td><td>2009-01-03 00:00:00</td><td>Grétrystraat 63</td><td>Brussels</td><td>None</td><td>Belgium</td><td>1000</td><td>5.94</td><td>8</td><td>20</td><td>0.99</td><td>1</td></tr><tr><td>8</td><td>Daan</td><td>Peeters</td><td>None</td><td>Grétrystraat 63</td><td>Brussels</td><td>None</td><td>Belgium</td><td>1000</td><td>+32 02 219 03 03</td><td>None</td><td>daan_peeters@apple.be</td><td>4</td><td>3</td><td>2009-01-03 00:00:00</td><td>Grétrystraat 63</td><td>Brussels</td><td>None</td><td>Belgium</td><td>1000</td><td>5.94</td><td>9</td><td>24</td><td>0.99</td><td>1</td></tr><tr><td>8</td><td>Daan</td><td>Peeters</td><td>None</td><td>Grétrystraat 63</td><td>Brussels</td><td>None</td><td>Belgium</td><td>1000</td><td>+32 02 219 03 03</td><td>None</td><td>daan_peeters@apple.be</td><td>4</td><td>3</td><td>2009-01-03 00:00:00</td><td>Grétrystraat 63</td><td>Brussels</td><td>None</td><td>Belgium</td><td>1000</td><td>5.94</td><td>10</td><td>28</td><td>0.99</td><td>1</td></tr></table>"
      ]
     },
     "metadata": {},
     "output_type": "display_data"
    }
   ],
   "source": [
    "SELECT *\n",
    "FROM Cliente\n",
    "    NATURAL JOIN Fattura\n",
    "    NATURAL JOIN LineaFattura\n",
    "LIMIT 10"
   ]
  },
  {
   "cell_type": "markdown",
   "id": "138c948f-eb19-47b7-9baa-3fbd36956d7b",
   "metadata": {},
   "source": [
    "#### Elenca il nome delle tracce e il nome dell'artista limitando la visualizzazione alle prime 10 righe ordinate per nome dell'artista e nome della traccia"
   ]
  },
  {
   "cell_type": "code",
   "execution_count": null,
   "id": "43c38b34-ece9-4863-a942-18624a135f8c",
   "metadata": {},
   "outputs": [
    {
     "data": {
      "text/html": [
       "<table><tr><td>artista</td><td>traccia</td></tr><tr><td>AC/DC</td><td>Bad Boy Boogie</td></tr><tr><td>AC/DC</td><td>Breaking The Rules</td></tr><tr><td>AC/DC</td><td>C.O.D.</td></tr><tr><td>AC/DC</td><td>Dog Eat Dog</td></tr><tr><td>AC/DC</td><td>Evil Walks</td></tr><tr><td>AC/DC</td><td>For Those About To Rock (We Salute You)</td></tr><tr><td>AC/DC</td><td>Go Down</td></tr><tr><td>AC/DC</td><td>Hell Ain't A Bad Place To Be</td></tr><tr><td>AC/DC</td><td>Inject The Venom</td></tr><tr><td>AC/DC</td><td>Let There Be Rock</td></tr></table>"
      ]
     },
     "metadata": {},
     "output_type": "display_data"
    }
   ],
   "source": [
    "SELECT A.nome AS artista, T.Nome AS traccia\n",
    "FROM Artista AS A\n",
    "    INNER JOIN Album USING (artistaId)\n",
    "    INNER JOIN Traccia AS T USING (albumId)\n",
    "ORDER BY A.nome, T.nome\n",
    "LIMIT 10\n"
   ]
  },
  {
   "cell_type": "markdown",
   "id": "bd6f0096-ee78-44a1-8f63-d8538137db6e",
   "metadata": {},
   "source": [
    "#### Elenca il nome dell'artista e il numero di album cui ha partecipato ordinato per numero decrescente e limitato alle prime 10 righe"
   ]
  },
  {
   "cell_type": "code",
   "execution_count": null,
   "id": "081f66b4-8a06-4bf1-b0a2-33b7227f20e7",
   "metadata": {},
   "outputs": [
    {
     "data": {
      "text/html": [
       "<table><tr><td>Nome</td><td>numeroAlbum</td></tr><tr><td>Iron Maiden</td><td>21</td></tr><tr><td>Led Zeppelin</td><td>14</td></tr><tr><td>Deep Purple</td><td>11</td></tr><tr><td>Metallica</td><td>10</td></tr><tr><td>U2</td><td>10</td></tr><tr><td>Ozzy Osbourne</td><td>6</td></tr><tr><td>Pearl Jam</td><td>5</td></tr><tr><td>Various Artistas</td><td>4</td></tr><tr><td>Faith No More</td><td>4</td></tr><tr><td>Foo Fighters</td><td>4</td></tr></table>"
      ]
     },
     "metadata": {},
     "output_type": "display_data"
    }
   ],
   "source": [
    "SELECT AR.nome, count(*) AS numeroAlbum\n",
    "FROM Artista AS AR INNER JOIN \n",
    "     Album AS AL USING (artistaId)\n",
    "GROUP BY (AR.artistaId)\n",
    "ORDER BY numeroAlbum DESC\n",
    "LIMIT 10\n"
   ]
  },
  {
   "cell_type": "markdown",
   "id": "95aa974e-0a89-4721-8b15-be0947d3ac29",
   "metadata": {},
   "source": [
    "#### Elenca per ogni formato multimediale il nome del formato e il rapporto tra i byte usati dalle tracce in quel formato e la durata totale in secondi (1 s = 1000 ms)"
   ]
  },
  {
   "cell_type": "code",
   "execution_count": null,
   "id": "8d5c9c2b-e18f-49dc-b8f4-ded6671d128f",
   "metadata": {},
   "outputs": [
    {
     "data": {
      "text/html": [
       "<table><tr><td>Nome</td><td>BytePerSecondo</td></tr><tr><td>MPEG audio file</td><td>85245</td></tr></table>"
      ]
     },
     "metadata": {},
     "output_type": "display_data"
    }
   ],
   "source": [
    "SELECT FMT.nome, sum(Byte)/sum(Millisecondi/1000) AS BytePerSecondo\n",
    "FROM FormatoMultimediale AS FMT INNER JOIN\n",
    "    Traccia USING (formatoMultimedialeId)"
   ]
  },
  {
   "cell_type": "markdown",
   "id": "4dd559b4-e821-4071-8913-007992d073de",
   "metadata": {},
   "source": [
    "#### Elenca il nome degli artisti, il titolo degli album e la durata in minuti complessiva, arrotondata al minuto più vicino, limitando la visualizzazione alle prime 15 righe ordinate dall'album di maggior durata al più breve"
   ]
  },
  {
   "cell_type": "code",
   "execution_count": null,
   "id": "31a51647-fef3-45bc-9210-183d8b41d5a9",
   "metadata": {},
   "outputs": [
    {
     "data": {
      "text/html": [
       "<table><tr><td>Nome</td><td>Titolo</td><td>durataComplessiva</td></tr><tr><td>Lost</td><td>Lost, Season 3</td><td>1177</td></tr><tr><td>Battlestar Galactica (Classic)</td><td>Battlestar Galactica (Classic), Season 1</td><td>1170</td></tr><tr><td>Lost</td><td>Lost, Season 1</td><td>1080</td></tr><tr><td>Lost</td><td>Lost, Season 2</td><td>1054</td></tr><tr><td>Heroes</td><td>Heroes, Season 1</td><td>996</td></tr><tr><td>Battlestar Galactica</td><td>Battlestar Galactica, Season 3</td><td>879</td></tr><tr><td>Lost</td><td>LOST, Season 4</td><td>657</td></tr><tr><td>The Office</td><td>The Office, Season 3</td><td>638</td></tr><tr><td>The Office</td><td>The Office, Season 2</td><td>477</td></tr><tr><td>Lenny Kravitz</td><td>Greatest Hits</td><td>250</td></tr><tr><td>Eric Clapton</td><td>Unplugged</td><td>134</td></tr><tr><td>The Office</td><td>The Office, Season 1</td><td>132</td></tr><tr><td>Chico Buarque</td><td>Minha Historia</td><td>131</td></tr><tr><td>Iron Maiden</td><td>Live After Death</td><td>96</td></tr><tr><td>U2</td><td>Instant Karma: The Amnesty International Campaign to Save Darfur</td><td>85</td></tr><tr><td>Iron Maiden</td><td>A Matter of Life and Death</td><td>79</td></tr><tr><td>Soundgarden</td><td>A-Sides</td><td>79</td></tr><tr><td>Led Zeppelin</td><td>BBC Sessions [Disc 2] [Live]</td><td>78</td></tr><tr><td>Metallica</td><td>Load</td><td>78</td></tr><tr><td>Gene Krupa</td><td>Up An' Atom</td><td>77</td></tr><tr><td>The Cult</td><td>Pure Cult: The Best Of The Cult (For Rockers, Ravers, Lovers & Sinners) [UK]</td><td>77</td></tr><tr><td>Kiss</td><td>Greatest Kiss</td><td>76</td></tr><tr><td>Miles Davis</td><td>The Essential Miles Davis [Disc 1]</td><td>76</td></tr><tr><td>Guns N' Roses</td><td>Use Your Illusion I</td><td>76</td></tr><tr><td>Jorge Ben</td><td>Jorge Ben Jor 25 Anos</td><td>76</td></tr><tr><td>Metallica</td><td>ReLoad</td><td>76</td></tr><tr><td>The Who</td><td>My Generation - The Very Best Of The Who</td><td>76</td></tr><tr><td>Queen</td><td>Greatest Hits II</td><td>75</td></tr><tr><td>Frank Sinatra</td><td>My Way: The Best Of Frank Sinatra [Disc 1]</td><td>75</td></tr><tr><td>Guns N' Roses</td><td>Use Your Illusion II</td><td>75</td></tr><tr><td>Metallica</td><td>St. Anger</td><td>75</td></tr><tr><td>Os Paralamas Do Sucesso</td><td>Acústico MTV</td><td>75</td></tr><tr><td>Rush</td><td>Retrospective I (1974-1980)</td><td>75</td></tr><tr><td>Led Zeppelin</td><td>BBC Sessions [Disc 1] [Live]</td><td>74</td></tr><tr><td>Santana</td><td>Supernatural</td><td>74</td></tr><tr><td>Creedence Clearwater Revival</td><td>Chronicle, Vol. 2</td><td>74</td></tr><tr><td>Smashing Pumpkins</td><td>Rotten Apples: Greatest Hits</td><td>74</td></tr><tr><td>Aerosmith</td><td>Big Ones</td><td>73</td></tr><tr><td>Various Artistas</td><td>Sambas De Enredo 2001</td><td>73</td></tr><tr><td>Miles Davis</td><td>The Essential Miles Davis [Disc 2]</td><td>73</td></tr><tr><td>Def Leppard</td><td>Vault: Def Leppard's Greatest Hits</td><td>73</td></tr><tr><td>Incognito</td><td>Blue Moods</td><td>73</td></tr><tr><td>Mötley Crüe</td><td>Motley Crue Greatest Hits</td><td>73</td></tr><tr><td>Red Hot Chili Peppers</td><td>Blood Sugar Sex Magik</td><td>73</td></tr><tr><td>O Rappa</td><td>Radio Brasil (O Som da Jovem Vanguarda) - Seleccao de Henrique Amaro</td><td>73</td></tr><tr><td>Eric Clapton</td><td>The Cream Of Clapton</td><td>72</td></tr><tr><td>Ozzy Osbourne</td><td>Tribute</td><td>72</td></tr><tr><td>U2</td><td>Rattle And Hum</td><td>72</td></tr><tr><td>Van Halen</td><td>The Best Of Van Halen, Vol. I</td><td>72</td></tr><tr><td>Iron Maiden</td><td>The X Factor</td><td>71</td></tr><tr><td>Pearl Jam</td><td>Live On Two Legs [Live]</td><td>71</td></tr><tr><td>Santana</td><td>Santana - As Years Go By</td><td>71</td></tr><tr><td>Titãs</td><td>Acústico</td><td>71</td></tr><tr><td>Chico Science & Nação Zumbi</td><td>Afrociberdelia</td><td>70</td></tr><tr><td>Antônio Carlos Jobim</td><td>Chill: Brazil (Disc 2)</td><td>70</td></tr><tr><td>James Brown</td><td>Sex Machine</td><td>70</td></tr><tr><td>Metallica</td><td>Garage Inc. (Disc 2)</td><td>70</td></tr><tr><td>Smashing Pumpkins</td><td>Judas 0: B-Sides and Rarities</td><td>70</td></tr><tr><td>Ozzy Osbourne</td><td>Speak of the Devil</td><td>70</td></tr><tr><td>Funk Como Le Gusta</td><td>Roda De Funk</td><td>69</td></tr><tr><td>Legião Urbana</td><td>Mais Do Mesmo</td><td>68</td></tr><tr><td>Red Hot Chili Peppers</td><td>By The Way</td><td>68</td></tr><tr><td>Black Label Society</td><td>Alcohol Fueled Brewtality Live! [Disc 1]</td><td>67</td></tr><tr><td>Creedence Clearwater Revival</td><td>Chronicle, Vol. 1</td><td>67</td></tr><tr><td>Iron Maiden</td><td>Dance Of Death</td><td>67</td></tr><tr><td>Santana</td><td>Santana Live</td><td>67</td></tr><tr><td>Terry Bozzio, Tony Levin & Steve Stevens</td><td>[1997] Black Light Syndrome</td><td>67</td></tr><tr><td>The Rolling Stones</td><td>No Security</td><td>67</td></tr><tr><td>The Tea Party</td><td>Tangents</td><td>67</td></tr><tr><td>Zeca Pagodinho</td><td>Ao Vivo [IMPORT]</td><td>67</td></tr><tr><td>Iron Maiden</td><td>Brave New World</td><td>66</td></tr><tr><td>Jamiroquai</td><td>The Return Of The Space Cowboy</td><td>66</td></tr><tr><td>Judas Priest</td><td>Living After Midnight</td><td>66</td></tr><tr><td>Legião Urbana</td><td>A TempestadeTempestade Ou O Livro Dos Dias</td><td>66</td></tr><tr><td>Audioslave</td><td>Audioslave</td><td>65</td></tr><tr><td>Cidade Negra</td><td>Acústico MTV [Live]</td><td>65</td></tr><tr><td>Various Artistas</td><td>Carnaval 2001</td><td>65</td></tr><tr><td>Metallica</td><td>Garage Inc. (Disc 1)</td><td>65</td></tr><tr><td>Gilberto Gil</td><td>Quanta Gente Veio Ver (Live)</td><td>65</td></tr><tr><td>Metallica</td><td>...And Justice For All</td><td>65</td></tr><tr><td>R.E.M.</td><td>New Adventures In Hi-Fi</td><td>65</td></tr><tr><td>U2</td><td>The Best Of 1980-1990</td><td>65</td></tr><tr><td>Van Halen</td><td>Van Halen III</td><td>65</td></tr><tr><td>Deep Purple</td><td>Knocking at Your Back Door: The Best Of Deep Purple in the 80's</td><td>64</td></tr><tr><td>The Clash</td><td>The Singles</td><td>64</td></tr><tr><td>Caetano Veloso</td><td>Prenda Minha</td><td>63</td></tr><tr><td>Deep Purple</td><td>The Final Concerts (Disc 2)</td><td>62</td></tr><tr><td>Deep Purple</td><td>Purpendicular</td><td>62</td></tr><tr><td>Metallica</td><td>Black Album</td><td>62</td></tr><tr><td>The Rolling Stones</td><td>Voodoo Lounge</td><td>62</td></tr><tr><td>Bruce Dickinson</td><td>Chemical Wedding</td><td>61</td></tr><tr><td>Marcos Valle</td><td>Chill: Brazil (Disc 1)</td><td>61</td></tr><tr><td>Faith No More</td><td>Angel Dust</td><td>61</td></tr><tr><td>Green Day</td><td>International Superhits</td><td>60</td></tr><tr><td>David Coverdale</td><td>Into The Light</td><td>60</td></tr><tr><td>Djavan</td><td>Djavan Ao Vivo - Vol. 02</td><td>60</td></tr><tr><td>Djavan</td><td>Djavan Ao Vivo - Vol. 1</td><td>60</td></tr><tr><td>Iron Maiden</td><td>Live At Donington 1992 (Disc 2)</td><td>60</td></tr><tr><td>Jimi Hendrix</td><td>Are You Experienced?</td><td>60</td></tr><tr><td>Os Paralamas Do Sucesso</td><td>Arquivo Os Paralamas Do Sucesso</td><td>60</td></tr><tr><td>Page & Plant</td><td>Walking Into Clarksdale</td><td>60</td></tr><tr><td>U2</td><td>Pop</td><td>60</td></tr><tr><td>Faith No More</td><td>King For A Day Fool For A Lifetime</td><td>59</td></tr><tr><td>Iron Maiden</td><td>A Real Dead One</td><td>59</td></tr><tr><td>Iron Maiden</td><td>Rock In Rio [CD2]</td><td>59</td></tr><tr><td>O Terço</td><td>Compositores</td><td>59</td></tr><tr><td>R.E.M.</td><td>The Best Of R.E.M.: The IRS Years</td><td>59</td></tr><tr><td>The Police</td><td>The Police Greatest Hits</td><td>59</td></tr><tr><td>U2</td><td>B-Sides 1980-1990</td><td>59</td></tr><tr><td>Spyro Gyra</td><td>Heart of the Night</td><td>58</td></tr><tr><td>Deep Purple</td><td>MK III The Final Concerts [Disc 1]</td><td>58</td></tr><tr><td>Iron Maiden</td><td>A Real Live One</td><td>58</td></tr><tr><td>Iron Maiden</td><td>Fear Of The Dark</td><td>58</td></tr><tr><td>Passengers</td><td>Original SoundTraccias 1</td><td>58</td></tr><tr><td>Queen</td><td>Greatest Hits I</td><td>58</td></tr><tr><td>UB40</td><td>UB40 The Best Of - Volume Two [UK]</td><td>58</td></tr><tr><td>Audioslave</td><td>Revelations</td><td>58</td></tr><tr><td>Alanis Morissette</td><td>Jagged Little Pill</td><td>57</td></tr><tr><td>Cidade Negra</td><td>Cidade Negra - Hits</td><td>57</td></tr><tr><td>Cássia Eller</td><td>Cássia Eller - Sem Limite [Disc 1]</td><td>57</td></tr><tr><td>Dennis Chambers</td><td>Outbreak</td><td>57</td></tr><tr><td>Green Day</td><td>American Idiot</td><td>57</td></tr><tr><td>Marisa Monte</td><td>Barulhinho Bom</td><td>57</td></tr><tr><td>Marvin Gaye</td><td>Seek And Shall Find: More Of The Best (1963-1981)</td><td>57</td></tr><tr><td>Scorpions</td><td>20th Century Masters - The Millennium Collection: The Best of Scorpions</td><td>57</td></tr><tr><td>Ed Motta</td><td>The Best of Ed Motta</td><td>56</td></tr><tr><td>Cássia Eller</td><td>Cássia Eller - Coleção Sem Limite [Disc 2]</td><td>56</td></tr><tr><td>Iron Maiden</td><td>Rock In Rio [CD1]</td><td>56</td></tr><tr><td>Kiss</td><td>Unplugged [Live]</td><td>56</td></tr><tr><td>Red Hot Chili Peppers</td><td>Californication</td><td>56</td></tr><tr><td>Titãs</td><td>Volume Dois</td><td>56</td></tr><tr><td>Velvet Revolver</td><td>Contraband</td><td>56</td></tr><tr><td>Os Mutantes</td><td>Minha História</td><td>55</td></tr><tr><td>Faith No More</td><td>The Real Thing</td><td>55</td></tr><tr><td>Jamiroquai</td><td>Emergency On Planet Earth</td><td>55</td></tr><tr><td>Lulu Santos</td><td>Lulu Santos - RCA 100 Anos De Música - Álbum 02</td><td>55</td></tr><tr><td>U2</td><td>Achtung Baby</td><td>55</td></tr><tr><td>Temple of the Dog</td><td>Temple of the Dog</td><td>55</td></tr><tr><td>Alice In Chains</td><td>Facelift</td><td>54</td></tr><tr><td>Toquinho & Vinícius</td><td>Vinícius De Moraes - Sem Limite</td><td>54</td></tr><tr><td>Foo Fighters</td><td>One By One</td><td>54</td></tr><tr><td>Metallica</td><td>Master Of Puppets</td><td>54</td></tr><tr><td>Pearl Jam</td><td>Riot Act</td><td>54</td></tr><tr><td>The Black Crowes</td><td>Live [Disc 1]</td><td>54</td></tr><tr><td>Vinícius De Moraes</td><td>Vinicius De Moraes</td><td>54</td></tr><tr><td>House Of Pain</td><td>House of Pain</td><td>54</td></tr><tr><td>Chris Cornell</td><td>Carry On</td><td>54</td></tr><tr><td>Audioslave</td><td>Out Of Exile</td><td>53</td></tr><tr><td>Body Count</td><td>Body Count</td><td>53</td></tr><tr><td>Guns N' Roses</td><td>Appetite for Destruction</td><td>53</td></tr><tr><td>Iron Maiden</td><td>Virtual XI</td><td>53</td></tr><tr><td>Nirvana</td><td>From The Muddy Banks Of The Wishkah [Live]</td><td>53</td></tr><tr><td>Pearl Jam</td><td>Ten</td><td>53</td></tr><tr><td>Skank</td><td>Maquinarama</td><td>53</td></tr><tr><td>Stone Temple Pilots</td><td>Core</td><td>53</td></tr><tr><td>Jamiroquai</td><td>Synkronized</td><td>52</td></tr><tr><td>Lulu Santos</td><td>Lulu Santos - RCA 100 Anos De Música - Álbum 01</td><td>52</td></tr><tr><td>Miles Davis</td><td>Miles Ahead</td><td>52</td></tr><tr><td>Elis Regina</td><td>Elis Regina-Minha História</td><td>51</td></tr><tr><td>Iron Maiden</td><td>Live At Donington 1992 (Disc 1)</td><td>51</td></tr><tr><td>Iron Maiden</td><td>Somewhere in Time</td><td>51</td></tr><tr><td>Metallica</td><td>Kill 'Em All</td><td>51</td></tr><tr><td>Milton Nascimento</td><td>Minas</td><td>51</td></tr><tr><td>Chico Science & Nação Zumbi</td><td>Da Lama Ao Caos</td><td>50</td></tr><tr><td>Deep Purple</td><td>The Battle Rages On</td><td>50</td></tr><tr><td>Iron Maiden</td><td>Powerslave</td><td>50</td></tr><tr><td>Jota Quest</td><td>Jota Quest-1995</td><td>50</td></tr><tr><td>João Suplicy</td><td>Cafezinho</td><td>50</td></tr><tr><td>Led Zeppelin</td><td>The Song Remains The Same (Disc 2)</td><td>50</td></tr><tr><td>Olodum</td><td>Olodum</td><td>50</td></tr><tr><td>The Cult</td><td>Beyond Good And Evil</td><td>50</td></tr><tr><td>U2</td><td>Zooropa</td><td>50</td></tr><tr><td>Amy Winehouse</td><td>Frank</td><td>50</td></tr><tr><td>Led Zeppelin</td><td>The Song Remains The Same (Disc 1)</td><td>49</td></tr><tr><td>Pearl Jam</td><td>Pearl Jam</td><td>49</td></tr><tr><td>Planet Hemp</td><td>Os Cães Ladram Mas A Caravana Não Pára</td><td>49</td></tr><tr><td>The Black Crowes</td><td>Live [Disc 2]</td><td>49</td></tr><tr><td>The Tea Party</td><td>Transmission</td><td>49</td></tr><tr><td>U2</td><td>All That You Can't Leave Behind</td><td>49</td></tr><tr><td>U2</td><td>How To Dismantle An Atomic Bomb</td><td>49</td></tr><tr><td>Antônio Carlos Jobim</td><td>Warner 25 Anos</td><td>48</td></tr><tr><td>Gonzaguinha</td><td>Meus Momentos</td><td>48</td></tr><tr><td>Gilberto Gil</td><td>As Canções de Eu Tu Eles</td><td>48</td></tr><tr><td>JET</td><td>Get Born</td><td>48</td></tr><tr><td>Tim Maia</td><td>Serie Sem Limite (Disc 2)</td><td>48</td></tr><tr><td>Various Artistas</td><td>Vozes do MPB</td><td>47</td></tr><tr><td>Falamansa</td><td>Deixa Entrar</td><td>47</td></tr><tr><td>Godsmack</td><td>Faceless</td><td>47</td></tr><tr><td>Metallica</td><td>Ride The Lightning</td><td>47</td></tr><tr><td>Raul Seixas</td><td>Raul Seixas</td><td>47</td></tr><tr><td>Various Artistas</td><td>Axé Bahia 2001</td><td>46</td></tr><tr><td>Deep Purple</td><td>Slaves And Masters</td><td>46</td></tr><tr><td>Foo Fighters</td><td>The Colour And The Shape</td><td>46</td></tr><tr><td>Milton Nascimento</td><td>Milton Nascimento Ao Vivo</td><td>46</td></tr><tr><td>Pearl Jam</td><td>Vs.</td><td>46</td></tr><tr><td>Iron Maiden</td><td>Piece Of Mind</td><td>45</td></tr><tr><td>Motörhead</td><td>Ace Of Spades</td><td>45</td></tr><tr><td>Apocalyptica</td><td>Plays Metallica By Four Cellos</td><td>44</td></tr><tr><td>Billy Cobham</td><td>The Best Of Billy Cobham</td><td>44</td></tr><tr><td>Iron Maiden</td><td>No Prayer For The Dying</td><td>44</td></tr><tr><td>Led Zeppelin</td><td>Led Zeppelin I</td><td>44</td></tr><tr><td>Led Zeppelin</td><td>Presence</td><td>44</td></tr><tr><td>R.E.M. Feat. Kate Pearson</td><td>Out Of Time</td><td>44</td></tr><tr><td>Skank</td><td>O Samba Poconé</td><td>44</td></tr><tr><td>The Doors</td><td>The Doors</td><td>44</td></tr><tr><td>Black Sabbath</td><td>Black Sabbath Vol. 4 (Remaster)</td><td>43</td></tr><tr><td>Buddy Guy</td><td>The Best Of Buddy Guy - The Millenium Collection</td><td>43</td></tr><tr><td>Faith No More</td><td>Album Of The Year</td><td>43</td></tr><tr><td>Foo Fighters</td><td>In Your Honor [Disc 2]</td><td>43</td></tr><tr><td>Iron Maiden</td><td>Seventh Son of a Seventh Son</td><td>43</td></tr><tr><td>Led Zeppelin</td><td>Physical Graffiti [Disc 2]</td><td>43</td></tr><tr><td>Men At Work</td><td>The Best Of Men At Work</td><td>43</td></tr><tr><td>Mônica Marianno</td><td>Demorou...</td><td>43</td></tr><tr><td>Tim Maia</td><td>Serie Sem Limite (Disc 1)</td><td>43</td></tr><tr><td>Battlestar Galactica</td><td>Battlestar Galactica: The Story So Far</td><td>43</td></tr><tr><td>Cláudio Zoli</td><td>Na Pista</td><td>42</td></tr><tr><td>Deep Purple</td><td>Deep Purple In Rock</td><td>42</td></tr><tr><td>Led Zeppelin</td><td>In Through The Out Door</td><td>42</td></tr><tr><td>Led Zeppelin</td><td>IV</td><td>42</td></tr><tr><td>Led Zeppelin</td><td>Led Zeppelin III</td><td>42</td></tr><tr><td>Nirvana</td><td>Nevermind</td><td>42</td></tr><tr><td>Paul D'Ianno</td><td>The Beast Live</td><td>42</td></tr><tr><td>Pink Floyd</td><td>Dark Side Of The Moon</td><td>42</td></tr><tr><td>U2</td><td>War</td><td>42</td></tr><tr><td>Amy Winehouse</td><td>Back to Black</td><td>42</td></tr><tr><td>Frank Zappa & Captain Beefheart</td><td>Bongo Fury</td><td>41</td></tr><tr><td>Led Zeppelin</td><td>Led Zeppelin II</td><td>41</td></tr><tr><td>Marillion</td><td>Misplaced Childhood</td><td>41</td></tr><tr><td>Os Paralamas Do Sucesso</td><td>Arquivo II</td><td>41</td></tr><tr><td>Spyro Gyra</td><td>Morning Dance</td><td>41</td></tr><tr><td>Stevie Ray Vaughan & Double Trouble</td><td>In Step</td><td>41</td></tr><tr><td>Aquaman</td><td>Aquaman</td><td>41</td></tr><tr><td>AC/DC</td><td>Let There Be Rock</td><td>40</td></tr><tr><td>Foo Fighters</td><td>In Your Honor [Disc 1]</td><td>40</td></tr><tr><td>Iron Maiden</td><td>Iron Maiden</td><td>40</td></tr><tr><td>Iron Maiden</td><td>The Number of The Beast</td><td>40</td></tr><tr><td>Led Zeppelin</td><td>Houses Of The Holy</td><td>40</td></tr><tr><td>R.E.M.</td><td>Green</td><td>40</td></tr><tr><td>AC/DC</td><td>For Those About To Rock We Salute You</td><td>39</td></tr><tr><td>Led Zeppelin</td><td>Physical Graffiti [Disc 1]</td><td>39</td></tr><tr><td>Deep Purple</td><td>Fireball</td><td>39</td></tr><tr><td>Queen</td><td>News Of The World</td><td>39</td></tr><tr><td>Black Sabbath</td><td>Black Sabbath</td><td>38</td></tr><tr><td>Iron Maiden</td><td>Killers</td><td>38</td></tr><tr><td>The Rolling Stones</td><td>Hot Rocks, 1964-1971 (Disc 1)</td><td>38</td></tr><tr><td>Deep Purple</td><td>Come Taste The Band</td><td>37</td></tr><tr><td>Deep Purple</td><td>Machine Head</td><td>37</td></tr><tr><td>Joe Satriani</td><td>Surfing with the Alien (Remastered)</td><td>37</td></tr><tr><td>Deep Purple</td><td>Stormbringer</td><td>36</td></tr><tr><td>System Of A Down</td><td>Mezmerize</td><td>36</td></tr><tr><td>Van Halen</td><td>Van Halen</td><td>35</td></tr><tr><td>Led Zeppelin</td><td>Coda</td><td>32</td></tr><tr><td>Van Halen</td><td>Diver Down</td><td>31</td></tr><tr><td>Raimundos</td><td>Cesta Básica</td><td>28</td></tr><tr><td>BackBeat</td><td>BackBeat SoundTraccia</td><td>26</td></tr><tr><td>Black Label Society</td><td>Alcohol Fueled Brewtality Live! [Disc 2]</td><td>24</td></tr><tr><td>Caetano Veloso</td><td>Sozinho Remix Ao Vivo</td><td>15</td></tr><tr><td>Gilberto Gil</td><td>Quanta Gente Veio ver--Bônus De Carnaval</td><td>15</td></tr><tr><td>Accept</td><td>Restless and Wild</td><td>14</td></tr><tr><td>Ozzy Osbourne</td><td>No More Tears (Remastered)</td><td>11</td></tr><tr><td>Karsh Kale</td><td>Realize</td><td>11</td></tr><tr><td>Ozzy Osbourne</td><td>Blizzard of Ozz</td><td>10</td></tr><tr><td>Aisha Duo</td><td>Quiet Songs</td><td>9</td></tr><tr><td>Habib Koité and Bamada</td><td>Muso Ko</td><td>9</td></tr><tr><td>Scholars Baroque Ensemble</td><td>Handel: The Messiah (Highlights)</td><td>9</td></tr><tr><td>Leonard Bernstein & New York Philharmonic</td><td>Great Performances - Barber's Adagio and Other Romantic Favorites for Strings</td><td>9</td></tr><tr><td>Chicago Symphony Orchestra & Fritz Reiner</td><td>Scheherazade</td><td>9</td></tr><tr><td>Emanuel Ax, Eugene Ormandy & Philadelphia Orchestra</td><td>Chopin: Piano Concertos Nos. 1 & 2</td><td>9</td></tr><tr><td>Michael Tilson Thomas & San Francisco Symphony</td><td>Berlioz: Symphonie Fantastique</td><td>9</td></tr><tr><td>Adrian Leaper & Doreen de Feis</td><td>Górecki: Symphony No. 3</td><td>9</td></tr><tr><td>Richard Marlow & The Choir of Trinity College, Cambridge</td><td>Allegri: Miserere</td><td>8</td></tr><tr><td>Eugene Ormandy</td><td>Holst: The Planets, Op. 32 & Vaughan Williams: Fantasies</td><td>8</td></tr><tr><td>Felix Schmidt, London Symphony Orchestra & Rafael Frühbeck de Burgos</td><td>Elgar: Cello Concerto & Vaughan Williams: Fantasias</td><td>8</td></tr><tr><td>Eugene Ormandy</td><td>Strauss: Waltzes</td><td>8</td></tr><tr><td>Mela Tenenbaum, Pro Musica Prague & Richard Kapp</td><td>Locatelli: Concertos for Violin, Strings and Continuo, Vol. 3</td><td>8</td></tr><tr><td>Academy of St. Martin in the Fields & Sir Neville Marriner</td><td>The World of Classical Favourites</td><td>7</td></tr><tr><td>The Posies</td><td>Every Kind of Light</td><td>6</td></tr><tr><td>Berliner Philharmoniker, Claudio Abbado & Sabine Meyer</td><td>Mozart: Wind Concertos</td><td>6</td></tr><tr><td>Orchestre Révolutionnaire et Romantique & John Eliot Gardiner</td><td>Beethoven: Symhonies Nos. 5 & 6</td><td>6</td></tr><tr><td>Berliner Philharmoniker & Hans Rosbaud</td><td>Sibelius: Finlandia</td><td>6</td></tr><tr><td>Maurizio Pollini</td><td>Beethoven Piano Sonatas: Moonlight & Pastorale</td><td>6</td></tr><tr><td>Antal Doráti & London Symphony Orchestra</td><td>Tchaikovsky: 1812 Festival Overture, Op.49, Capriccio Italien & Beethoven: Wellington's Victory</td><td>6</td></tr><tr><td>Berliner Philharmoniker & Herbert Von Karajan</td><td>Mozart: Symphonies Nos. 40 & 41</td><td>6</td></tr><tr><td>Philharmonia Orchestra & Sir Neville Marriner</td><td>Mendelssohn: A Midsummer Night's Dream</td><td>6</td></tr><tr><td>Roger Norrington, London Classical Players</td><td>Purcell: The Fairy Queen</td><td>6</td></tr><tr><td>Charles Dutoit & L'Orchestre Symphonique de Montréal</td><td>The Ultimate Relexation Album</td><td>6</td></tr><tr><td>Kent Nagano and Orchestre de l'Opéra de Lyon</td><td>Weill: The Seven Deadly Sins</td><td>6</td></tr><tr><td>Accept</td><td>Balls to the Wall</td><td>5</td></tr><tr><td>Dread Zeppelin</td><td>Un-Led-Ed</td><td>5</td></tr><tr><td>Nicolaus Esterhazy Sinfonia</td><td>The Best of Beethoven</td><td>5</td></tr><tr><td>Academy of St. Martin in the Fields Chamber Ensemble & Sir Neville Marriner</td><td>Sir Neville Marriner: A Celebration</td><td>5</td></tr><tr><td>Royal Philharmonic Orchestra & Sir Thomas Beecham</td><td>Haydn: Symphonies 99 - 104</td><td>5</td></tr><tr><td>Britten Sinfonia, Ivor Bolton & Lesley Garrett</td><td>A Soprano Inspired</td><td>5</td></tr><tr><td>London Symphony Orchestra & Sir Charles Mackerras</td><td>Tchaikovsky: The Nutcracker</td><td>5</td></tr><tr><td>Orchestra of The Age of Enlightenment</td><td>Bach: The Brandenburg Concertos</td><td>5</td></tr><tr><td>Otto Klemperer & Philharmonia Orchestra</td><td>Beethoven: Symphony No. 6 'Pastoral' Etc.</td><td>5</td></tr><tr><td>Martin Roscoe</td><td>Szymanowski: Piano Works, Vol. 1</td><td>5</td></tr><tr><td>Ozzy Osbourne</td><td>Bark at the Moon (Remastered)</td><td>4</td></tr><tr><td>Ozzy Osbourne</td><td>Diary of a Madman (Remastered)</td><td>4</td></tr><tr><td>Aaron Goldberg</td><td>Worlds</td><td>4</td></tr><tr><td>Alberto Turco & Nova Schola Gregoriana</td><td>Adorate Deum: Gregorian Chant from the Proper of the Mass</td><td>4</td></tr><tr><td>English Concert & Trevor Pinnock</td><td>Pachelbel: Canon & Gigue</td><td>4</td></tr><tr><td>Chicago Symphony Chorus, Chicago Symphony Orchestra & Sir Georg Solti</td><td>Great Opera Choruses</td><td>4</td></tr><tr><td>Academy of St. Martin in the Fields, John Birch, Sir Neville Marriner & Sylvia McNair</td><td>Fauré: Requiem, Ravel: Pavane & Others</td><td>4</td></tr><tr><td>Barry Wordsworth & BBC Concert Orchestra</td><td>The Last Night of the Proms</td><td>4</td></tr><tr><td>Herbert Von Karajan, Mirella Freni & Wiener Philharmoniker</td><td>Puccini: Madama Butterfly - Highlights</td><td>4</td></tr><tr><td>Sergei Prokofiev & Yuri Temirkanov</td><td>Prokofiev: Symphony No.1</td><td>4</td></tr><tr><td>James Levine</td><td>Mascagni: Cavalleria Rusticana</td><td>4</td></tr><tr><td>Edo de Waart & San Francisco Symphony</td><td>Adams, John: The Chairman Dances</td><td>4</td></tr><tr><td>Choir Of Westminster Abbey & Simon Preston</td><td>Palestrina: Missa Papae Marcelli & Allegri: Miserere</td><td>4</td></tr><tr><td>Michael Tilson Thomas & San Francisco Symphony</td><td>Prokofiev: Romeo & Juliet</td><td>4</td></tr><tr><td>Berliner Philharmoniker & Herbert Von Karajan</td><td>Grieg: Peer Gynt Suites & Sibelius: Pelléas et Mélisande</td><td>4</td></tr><tr><td>Fretwork</td><td>Armada: Music from the Courts of England and Spain</td><td>4</td></tr><tr><td>Yehudi Menuhin</td><td>Bartok: Violin & Viola Concertos</td><td>4</td></tr><tr><td>The 12 Cellists of The Berlin Philharmonic</td><td>South American Getaway</td><td>4</td></tr><tr><td>Julian Bream</td><td>J.S. Bach: Chaconne, Suite in E Minor, Partita in E Major & Prelude, Fugue and Allegro</td><td>4</td></tr><tr><td>Göteborgs Symfoniker & Neeme Järvi</td><td>Nielsen: The Six Symphonies</td><td>4</td></tr><tr><td>Itzhak Perlman</td><td>Great Recordings of the Century: Paganini's 24 Caprices</td><td>4</td></tr><tr><td>Gerald Moore</td><td>Great Recordings of the Century - Shubert: Schwanengesang, 4 Lieder</td><td>4</td></tr><tr><td>Eugene Ormandy</td><td>Respighi:Pines of Rome</td><td>4</td></tr><tr><td>Cake</td><td>Cake: B-Sides and Rarities</td><td>3</td></tr><tr><td>Anne-Sophie Mutter, Herbert Von Karajan & Wiener Philharmoniker</td><td>Vivaldi: The Four Seasons</td><td>3</td></tr><tr><td>Hilary Hahn, Jeffrey Kahane, Los Angeles Chamber Orchestra & Margaret Batjer</td><td>Bach: Violin Concertos</td><td>3</td></tr><tr><td>Sir Georg Solti & Wiener Philharmoniker</td><td>Wagner: Favourite Overtures</td><td>3</td></tr><tr><td>Aaron Copland & London Symphony Orchestra</td><td>A Copland Celebration, Vol. I</td><td>3</td></tr><tr><td>Gustav Mahler</td><td>Great Recordings of the Century - Mahler: Das Lied von der Erde</td><td>3</td></tr><tr><td>The King's Singers</td><td>English Renaissance</td><td>3</td></tr><tr><td>Calexico</td><td>Carried to Dust (Bonus Traccia Version)</td><td>3</td></tr><tr><td>Academy of St. Martin in the Fields, Sir Neville Marriner & Thurston Dart</td><td>Bach: Orchestral Suites Nos. 1 - 4</td><td>3</td></tr><tr><td>Berliner Philharmoniker & Herbert Von Karajan</td><td>Prokofiev: Symphony No.5 & Stravinksy: Le Sacre Du Printemps</td><td>3</td></tr><tr><td>Nash Ensemble</td><td>Mozart: Chamber Music</td><td>3</td></tr><tr><td>Philip Glass Ensemble</td><td>Koyaanisqatsi (SoundTraccia from the Motion Picture)</td><td>3</td></tr><tr><td>Luciana Souza/Romero Lubambo</td><td>Duos II</td><td>2</td></tr><tr><td>Wilhelm Kempff</td><td>Bach: Goldberg Variations</td><td>2</td></tr><tr><td>Yo-Yo Ma</td><td>Bach: The Cello Suites</td><td>2</td></tr><tr><td>Luciano Pavarotti</td><td>Pavarotti's Opera Made Easy</td><td>2</td></tr><tr><td>Boston Symphony Orchestra & Seiji Ozawa</td><td>Carmina Burana</td><td>2</td></tr><tr><td>Ton Koopman</td><td>Bach: Toccata & Fugue in D Minor</td><td>2</td></tr><tr><td>Chor der Wiener Staatsoper, Herbert Von Karajan & Wiener Philharmoniker</td><td>Bizet: Carmen Highlights</td><td>2</td></tr><tr><td>English Concert & Trevor Pinnock</td><td>Handel: Music for the Royal Fireworks (Original Version 1749)</td><td>2</td></tr><tr><td>Sir Georg Solti, Sumi Jo & Wiener Philharmoniker</td><td>Mozart Gala: Famous Arias</td><td>2</td></tr><tr><td>Equale Brass Ensemble, John Eliot Gardiner & Munich Monteverdi Orchestra and Choir</td><td>Purcell: Music for the Queen Mary</td><td>2</td></tr><tr><td>Emerson String Quartet</td><td>Schubert: The Late String Quartets & String Quintet (3 CD's)</td><td>2</td></tr><tr><td>Christopher O'Riley</td><td>SCRIABIN: Vers la flamme</td><td>1</td></tr><tr><td>Les Arts Florissants & William Christie</td><td>Charpentier: Divertissements, Airs & Concerts</td><td>1</td></tr><tr><td>C. Monteverdi, Nigel Rogers - Chiaroscuro; London Baroque; London Cornett & Sackbu</td><td>Monteverdi: L'Orfeo</td><td>1</td></tr><tr><td>Michele Campanella</td><td>Liszt - 12 Études D'Execution Transcendante</td><td>0</td></tr></table>"
      ]
     },
     "metadata": {},
     "output_type": "display_data"
    }
   ],
   "source": [
    "SELECT AR.nome, AL.titolo, sum(Millisecondi / 1000) / 60 AS durataComplessiva\n",
    "FROM Artista AS AR INNER JOIN \n",
    "     Album AS AL USING (artistaId) INNER JOIN\n",
    "     Traccia USING (albumId)\n",
    "GROUP BY (AL.albumId)\n",
    "ORDER BY durataComplessiva DESC\n"
   ]
  }
 ],
 "metadata": {
  "kernelspec": {
   "display_name": "SQLite Kernel",
   "language": "sql",
   "name": "sqlik"
  },
  "language_info": {
   "file_extension": ".sql",
   "mimetype": "text/plain",
   "name": "sqlik"
  },
  "toc-autonumbering": true,
  "toc-showcode": false,
  "toc-showmarkdowntxt": false
 },
 "nbformat": 4,
 "nbformat_minor": 5
}
